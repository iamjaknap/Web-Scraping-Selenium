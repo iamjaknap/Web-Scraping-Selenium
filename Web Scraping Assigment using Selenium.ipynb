{
 "cells": [
  {
   "cell_type": "code",
   "execution_count": 2,
   "metadata": {},
   "outputs": [],
   "source": [
    "# Importing important Libraries\n",
    "import selenium\n",
    "import pandas as pd\n",
    "from selenium import webdriver"
   ]
  },
  {
   "cell_type": "code",
   "execution_count": 68,
   "metadata": {},
   "outputs": [],
   "source": [
    "# Connecting with the web driver\n",
    "driver= webdriver.Chrome('chromedriver.exe')"
   ]
  },
  {
   "cell_type": "markdown",
   "metadata": {},
   "source": [
    "# Answer-1. Write a python program to scrape data for “Data Analyst” Job position in “Bangalore” location. You have to scrape the job-title, job-location, company_name, experience_required. You have to scrape first 10 jobs data."
   ]
  },
  {
   "cell_type": "code",
   "execution_count": 69,
   "metadata": {},
   "outputs": [],
   "source": [
    "url='https://www.naukri.com/'\n",
    "driver.get(url)"
   ]
  },
  {
   "cell_type": "code",
   "execution_count": 70,
   "metadata": {},
   "outputs": [
    {
     "data": {
      "text/plain": [
       "<selenium.webdriver.remote.webelement.WebElement (session=\"9e15943f831cb1e48e5a746e1c5e8144\", element=\"0656f187-7b68-4e31-9505-8a041e3da03e\")>"
      ]
     },
     "execution_count": 70,
     "metadata": {},
     "output_type": "execute_result"
    }
   ],
   "source": [
    "#finding the element for job search by id\n",
    "search_job=driver.find_element_by_id('qsb-keyword-sugg')\n",
    "search_job"
   ]
  },
  {
   "cell_type": "code",
   "execution_count": 71,
   "metadata": {},
   "outputs": [],
   "source": [
    "search_job=driver.find_element_by_xpath('/html/body/div[1]/div[3]/div[2]/section/div/form/div[1]/div/div/div/div[1]/div[2]/input')"
   ]
  },
  {
   "cell_type": "code",
   "execution_count": 72,
   "metadata": {},
   "outputs": [],
   "source": [
    "search_job.send_keys('Data Analyst')"
   ]
  },
  {
   "cell_type": "code",
   "execution_count": 73,
   "metadata": {},
   "outputs": [],
   "source": [
    "search_loc=driver.find_element_by_id('qsb-location-sugg')\n",
    "search_loc.send_keys('Bangalore')"
   ]
  },
  {
   "cell_type": "code",
   "execution_count": 74,
   "metadata": {},
   "outputs": [
    {
     "data": {
      "text/plain": [
       "<selenium.webdriver.remote.webelement.WebElement (session=\"9e15943f831cb1e48e5a746e1c5e8144\", element=\"5af3316f-ed35-4d66-9aa6-2a1483281f82\")>"
      ]
     },
     "execution_count": 74,
     "metadata": {},
     "output_type": "execute_result"
    }
   ],
   "source": [
    "search_btn=driver.find_element_by_class_name('btn').click()\n",
    "search_btn"
   ]
  },
  {
   "cell_type": "code",
   "execution_count": 82,
   "metadata": {},
   "outputs": [
    {
     "data": {
      "text/plain": [
       "['Data Scientist / Data Analyst -Business Analyst',\n",
       " 'Data Analyst',\n",
       " 'Data analysts',\n",
       " 'Data Analyst (2positions)//immediate Joiners//bangalore',\n",
       " 'Data analysts',\n",
       " 'Data Analyst',\n",
       " 'Data Analyst',\n",
       " 'Consultant-Data Analyst -Bangalore',\n",
       " 'Data Analyst - Category Demand Management (Revenue & Growth)',\n",
       " 'Data Analyst/ Data Consultant (Various Levels – Senior/ Mid/ Junior)']"
      ]
     },
     "execution_count": 82,
     "metadata": {},
     "output_type": "execute_result"
    }
   ],
   "source": [
    "titles_tag=driver.find_elements_by_xpath('//a[@class=\"title fw500 ellipsis\"]')\n",
    "job=[]\n",
    "for i in titles_tag:\n",
    "    job.append(i.text)\n",
    "job1=job[:10]\n",
    "job1"
   ]
  },
  {
   "cell_type": "code",
   "execution_count": 83,
   "metadata": {},
   "outputs": [
    {
     "data": {
      "text/plain": [
       "['Inflexion Analytix Private Limited',\n",
       " 'Novel Office',\n",
       " 'IBM India Pvt. Limited',\n",
       " 'Tech Mahindra Ltd.',\n",
       " 'IBM India Pvt. Limited',\n",
       " 'Myntra Designs Pvt. Ltd.',\n",
       " 'Myntra Designs Pvt. Ltd.',\n",
       " 'Innovsource Services Private Limited',\n",
       " 'Myntra Designs Pvt. Ltd.',\n",
       " 'DVSUM INDIA PRIVATE LIMITED']"
      ]
     },
     "execution_count": 83,
     "metadata": {},
     "output_type": "execute_result"
    }
   ],
   "source": [
    "company_tag=driver.find_elements_by_xpath('//a[@class=\"subTitle ellipsis fleft\"]')\n",
    "company=[]\n",
    "for i in company_tag:\n",
    "    company.append(i.text)\n",
    "company1=company[:10]\n",
    "company1"
   ]
  },
  {
   "cell_type": "code",
   "execution_count": 84,
   "metadata": {},
   "outputs": [
    {
     "data": {
      "text/plain": [
       "['0-3 Yrs',\n",
       " '0-3 Yrs',\n",
       " '5-6 Yrs',\n",
       " '4-8 Yrs',\n",
       " '3-5 Yrs',\n",
       " '3-5 Yrs',\n",
       " '3-8 Yrs',\n",
       " '2-7 Yrs',\n",
       " '1-4 Yrs',\n",
       " '5-10 Yrs']"
      ]
     },
     "execution_count": 84,
     "metadata": {},
     "output_type": "execute_result"
    }
   ],
   "source": [
    "experience_tag=driver.find_elements_by_xpath('//li[@class=\"fleft grey-text br2 placeHolderLi experience\"]/span')\n",
    "experience=[]\n",
    "for i in experience_tag:\n",
    "    experience.append(i.text)\n",
    "experience1=experience[:10]\n",
    "experience1"
   ]
  },
  {
   "cell_type": "code",
   "execution_count": 85,
   "metadata": {},
   "outputs": [
    {
     "data": {
      "text/plain": [
       "['3,50,000 - 4,50,000 PA.',\n",
       " 'Not disclosed',\n",
       " 'Not disclosed',\n",
       " 'Not disclosed',\n",
       " 'Not disclosed',\n",
       " 'Not disclosed',\n",
       " 'Not disclosed',\n",
       " 'Not disclosed',\n",
       " 'Not disclosed',\n",
       " 'Not disclosed']"
      ]
     },
     "execution_count": 85,
     "metadata": {},
     "output_type": "execute_result"
    }
   ],
   "source": [
    "salary_tag=driver.find_elements_by_xpath('//li[@class=\"fleft grey-text br2 placeHolderLi salary\"]/span')\n",
    "salary=[]\n",
    "for i in salary_tag:\n",
    "    salary.append(i.text)\n",
    "salary1=salary[:10]\n",
    "salary1"
   ]
  },
  {
   "cell_type": "code",
   "execution_count": 86,
   "metadata": {},
   "outputs": [
    {
     "data": {
      "text/plain": [
       "['Mumbai, Hyderabad/Secunderabad, Pune, Gurgaon/Gurugram, Chennai, Bangalore/Bengaluru',\n",
       " 'Bangalore/Bengaluru',\n",
       " 'Bengaluru/Bangalore',\n",
       " 'Bangalore/Bengaluru',\n",
       " 'Bangalore/Bengaluru',\n",
       " 'Bangalore/Bengaluru',\n",
       " 'Bangalore/Bengaluru',\n",
       " 'Bangalore/Bengaluru',\n",
       " 'Bangalore/Bengaluru',\n",
       " 'Bangalore/Bengaluru']"
      ]
     },
     "execution_count": 86,
     "metadata": {},
     "output_type": "execute_result"
    }
   ],
   "source": [
    "location_tag=driver.find_elements_by_xpath('//li[@class=\"fleft grey-text br2 placeHolderLi location\"]/span')\n",
    "location=[]\n",
    "for i in location_tag:\n",
    "    location.append(i.text)\n",
    "location1=location[0:10]\n",
    "location1"
   ]
  },
  {
   "cell_type": "code",
   "execution_count": 87,
   "metadata": {},
   "outputs": [
    {
     "data": {
      "text/html": [
       "<div>\n",
       "<style scoped>\n",
       "    .dataframe tbody tr th:only-of-type {\n",
       "        vertical-align: middle;\n",
       "    }\n",
       "\n",
       "    .dataframe tbody tr th {\n",
       "        vertical-align: top;\n",
       "    }\n",
       "\n",
       "    .dataframe thead th {\n",
       "        text-align: right;\n",
       "    }\n",
       "</style>\n",
       "<table border=\"1\" class=\"dataframe\">\n",
       "  <thead>\n",
       "    <tr style=\"text-align: right;\">\n",
       "      <th></th>\n",
       "      <th>Job Title</th>\n",
       "      <th>Company Name</th>\n",
       "      <th>Experience</th>\n",
       "      <th>Salary</th>\n",
       "      <th>Location</th>\n",
       "    </tr>\n",
       "  </thead>\n",
       "  <tbody>\n",
       "    <tr>\n",
       "      <th>0</th>\n",
       "      <td>Data Scientist / Data Analyst -Business Analyst</td>\n",
       "      <td>Inflexion Analytix Private Limited</td>\n",
       "      <td>0-3 Yrs</td>\n",
       "      <td>3,50,000 - 4,50,000 PA.</td>\n",
       "      <td>Mumbai, Hyderabad/Secunderabad, Pune, Gurgaon/...</td>\n",
       "    </tr>\n",
       "    <tr>\n",
       "      <th>1</th>\n",
       "      <td>Data Analyst</td>\n",
       "      <td>Novel Office</td>\n",
       "      <td>0-3 Yrs</td>\n",
       "      <td>Not disclosed</td>\n",
       "      <td>Bangalore/Bengaluru</td>\n",
       "    </tr>\n",
       "    <tr>\n",
       "      <th>2</th>\n",
       "      <td>Data analysts</td>\n",
       "      <td>IBM India Pvt. Limited</td>\n",
       "      <td>5-6 Yrs</td>\n",
       "      <td>Not disclosed</td>\n",
       "      <td>Bengaluru/Bangalore</td>\n",
       "    </tr>\n",
       "    <tr>\n",
       "      <th>3</th>\n",
       "      <td>Data Analyst (2positions)//immediate Joiners//...</td>\n",
       "      <td>Tech Mahindra Ltd.</td>\n",
       "      <td>4-8 Yrs</td>\n",
       "      <td>Not disclosed</td>\n",
       "      <td>Bangalore/Bengaluru</td>\n",
       "    </tr>\n",
       "    <tr>\n",
       "      <th>4</th>\n",
       "      <td>Data analysts</td>\n",
       "      <td>IBM India Pvt. Limited</td>\n",
       "      <td>3-5 Yrs</td>\n",
       "      <td>Not disclosed</td>\n",
       "      <td>Bangalore/Bengaluru</td>\n",
       "    </tr>\n",
       "    <tr>\n",
       "      <th>5</th>\n",
       "      <td>Data Analyst</td>\n",
       "      <td>Myntra Designs Pvt. Ltd.</td>\n",
       "      <td>3-5 Yrs</td>\n",
       "      <td>Not disclosed</td>\n",
       "      <td>Bangalore/Bengaluru</td>\n",
       "    </tr>\n",
       "    <tr>\n",
       "      <th>6</th>\n",
       "      <td>Data Analyst</td>\n",
       "      <td>Myntra Designs Pvt. Ltd.</td>\n",
       "      <td>3-8 Yrs</td>\n",
       "      <td>Not disclosed</td>\n",
       "      <td>Bangalore/Bengaluru</td>\n",
       "    </tr>\n",
       "    <tr>\n",
       "      <th>7</th>\n",
       "      <td>Consultant-Data Analyst -Bangalore</td>\n",
       "      <td>Innovsource Services Private Limited</td>\n",
       "      <td>2-7 Yrs</td>\n",
       "      <td>Not disclosed</td>\n",
       "      <td>Bangalore/Bengaluru</td>\n",
       "    </tr>\n",
       "    <tr>\n",
       "      <th>8</th>\n",
       "      <td>Data Analyst - Category Demand Management (Rev...</td>\n",
       "      <td>Myntra Designs Pvt. Ltd.</td>\n",
       "      <td>1-4 Yrs</td>\n",
       "      <td>Not disclosed</td>\n",
       "      <td>Bangalore/Bengaluru</td>\n",
       "    </tr>\n",
       "    <tr>\n",
       "      <th>9</th>\n",
       "      <td>Data Analyst/ Data Consultant (Various Levels ...</td>\n",
       "      <td>DVSUM INDIA PRIVATE LIMITED</td>\n",
       "      <td>5-10 Yrs</td>\n",
       "      <td>Not disclosed</td>\n",
       "      <td>Bangalore/Bengaluru</td>\n",
       "    </tr>\n",
       "  </tbody>\n",
       "</table>\n",
       "</div>"
      ],
      "text/plain": [
       "                                           Job Title  \\\n",
       "0    Data Scientist / Data Analyst -Business Analyst   \n",
       "1                                       Data Analyst   \n",
       "2                                      Data analysts   \n",
       "3  Data Analyst (2positions)//immediate Joiners//...   \n",
       "4                                      Data analysts   \n",
       "5                                       Data Analyst   \n",
       "6                                       Data Analyst   \n",
       "7                 Consultant-Data Analyst -Bangalore   \n",
       "8  Data Analyst - Category Demand Management (Rev...   \n",
       "9  Data Analyst/ Data Consultant (Various Levels ...   \n",
       "\n",
       "                           Company Name Experience                   Salary  \\\n",
       "0    Inflexion Analytix Private Limited    0-3 Yrs  3,50,000 - 4,50,000 PA.   \n",
       "1                          Novel Office    0-3 Yrs            Not disclosed   \n",
       "2                IBM India Pvt. Limited    5-6 Yrs            Not disclosed   \n",
       "3                    Tech Mahindra Ltd.    4-8 Yrs            Not disclosed   \n",
       "4                IBM India Pvt. Limited    3-5 Yrs            Not disclosed   \n",
       "5              Myntra Designs Pvt. Ltd.    3-5 Yrs            Not disclosed   \n",
       "6              Myntra Designs Pvt. Ltd.    3-8 Yrs            Not disclosed   \n",
       "7  Innovsource Services Private Limited    2-7 Yrs            Not disclosed   \n",
       "8              Myntra Designs Pvt. Ltd.    1-4 Yrs            Not disclosed   \n",
       "9           DVSUM INDIA PRIVATE LIMITED   5-10 Yrs            Not disclosed   \n",
       "\n",
       "                                            Location  \n",
       "0  Mumbai, Hyderabad/Secunderabad, Pune, Gurgaon/...  \n",
       "1                                Bangalore/Bengaluru  \n",
       "2                                Bengaluru/Bangalore  \n",
       "3                                Bangalore/Bengaluru  \n",
       "4                                Bangalore/Bengaluru  \n",
       "5                                Bangalore/Bengaluru  \n",
       "6                                Bangalore/Bengaluru  \n",
       "7                                Bangalore/Bengaluru  \n",
       "8                                Bangalore/Bengaluru  \n",
       "9                                Bangalore/Bengaluru  "
      ]
     },
     "execution_count": 87,
     "metadata": {},
     "output_type": "execute_result"
    }
   ],
   "source": [
    "df_DataAnalyst=pd.DataFrame({})\n",
    "df_DataAnalyst['Job Title']=job1\n",
    "df_DataAnalyst['Company Name']=company1\n",
    "df_DataAnalyst['Experience']=experience1\n",
    "df_DataAnalyst['Salary']=salary1\n",
    "df_DataAnalyst['Location']=location1\n",
    "df_DataAnalyst"
   ]
  },
  {
   "cell_type": "markdown",
   "metadata": {},
   "source": [
    "# Answer 2. Write a python program to scrape data for “Data Scientist” Job position in “Bangalore” location. You have to scrape the job-title, job-location, company_name, full job-description. You have to scrape first 10 jobs data."
   ]
  },
  {
   "cell_type": "code",
   "execution_count": 177,
   "metadata": {},
   "outputs": [],
   "source": [
    "# Connecting with the web driver\n",
    "driver= webdriver.Chrome('chromedriver.exe')"
   ]
  },
  {
   "cell_type": "code",
   "execution_count": 178,
   "metadata": {},
   "outputs": [],
   "source": [
    "url='https://www.naukri.com/'\n",
    "driver.get(url)"
   ]
  },
  {
   "cell_type": "code",
   "execution_count": 179,
   "metadata": {},
   "outputs": [],
   "source": [
    "search_job=driver.find_element_by_id('qsb-keyword-sugg')\n",
    "search_job\n",
    "search_job=driver.find_element_by_xpath('/html/body/div[1]/div[3]/div[2]/section/div/form/div[1]/div/div/div/div[1]/div[2]/input')\n",
    "search_job.send_keys('Data Scientist')"
   ]
  },
  {
   "cell_type": "code",
   "execution_count": 180,
   "metadata": {},
   "outputs": [],
   "source": [
    "search_loc=driver.find_element_by_id('qsb-location-sugg')\n",
    "search_loc.send_keys('Bangalore')\n",
    "search_btn=driver.find_element_by_class_name('btn').click()\n",
    "search_btn"
   ]
  },
  {
   "cell_type": "code",
   "execution_count": null,
   "metadata": {},
   "outputs": [],
   "source": []
  },
  {
   "cell_type": "code",
   "execution_count": 181,
   "metadata": {},
   "outputs": [
    {
     "data": {
      "text/plain": [
       "['Data Scientist / Data Analyst -Business Analyst',\n",
       " 'data scientist',\n",
       " 'Data analytics / Data scientist intern (work from Home)',\n",
       " 'Senior Data Scientist',\n",
       " 'VP - Sr. Data Scientist For Morgan Stanley, Bangalore',\n",
       " 'Senior Data Scientist',\n",
       " 'Senior Data Scientist',\n",
       " 'Senior Data Scientist',\n",
       " 'Senior Data Scientist',\n",
       " 'Sr Data Scientist']"
      ]
     },
     "execution_count": 181,
     "metadata": {},
     "output_type": "execute_result"
    }
   ],
   "source": [
    "titles_tag=driver.find_elements_by_xpath('//a[@class=\"title fw500 ellipsis\"]')\n",
    "job=[]\n",
    "for i in titles_tag:\n",
    "    job.append(i.text)\n",
    "job1=job[:10]\n",
    "job1"
   ]
  },
  {
   "cell_type": "code",
   "execution_count": 182,
   "metadata": {},
   "outputs": [
    {
     "data": {
      "text/plain": [
       "['Inflexion Analytix Private Limited',\n",
       " 'Global Talent Pool',\n",
       " 'TalkValley LLC',\n",
       " 'RedBus',\n",
       " 'Morgan Stanley Advantage Services',\n",
       " 'Infocrunch Campaigns Pvt Ltd',\n",
       " 'Walmart Labs',\n",
       " 'ExecBoardinAsia',\n",
       " 'Perform Group',\n",
       " 'intelligent industrial internet systems pvt ltd.']"
      ]
     },
     "execution_count": 182,
     "metadata": {},
     "output_type": "execute_result"
    }
   ],
   "source": [
    "company_tag=driver.find_elements_by_xpath('//a[@class=\"subTitle ellipsis fleft\"]')\n",
    "company=[]\n",
    "for i in company_tag:\n",
    "    company.append(i.text)\n",
    "company1=company[:10]\n",
    "company1"
   ]
  },
  {
   "cell_type": "code",
   "execution_count": 183,
   "metadata": {},
   "outputs": [
    {
     "data": {
      "text/plain": [
       "['0-3 Yrs',\n",
       " '0-2 Yrs',\n",
       " '0-5 Yrs',\n",
       " '5-8 Yrs',\n",
       " '8-13 Yrs',\n",
       " '3-7 Yrs',\n",
       " '8-10 Yrs',\n",
       " '5-10 Yrs',\n",
       " '4-7 Yrs',\n",
       " '3-6 Yrs']"
      ]
     },
     "execution_count": 183,
     "metadata": {},
     "output_type": "execute_result"
    }
   ],
   "source": [
    "experience_tag=driver.find_elements_by_xpath('//li[@class=\"fleft grey-text br2 placeHolderLi experience\"]/span')\n",
    "experience=[]\n",
    "for i in experience_tag:\n",
    "    experience.append(i.text)\n",
    "experience1=experience[:10]\n",
    "experience1"
   ]
  },
  {
   "cell_type": "code",
   "execution_count": 184,
   "metadata": {},
   "outputs": [
    {
     "data": {
      "text/plain": [
       "['3,50,000 - 4,50,000 PA.',\n",
       " 'Not disclosed',\n",
       " '2,00,000 - 3,00,000 PA.',\n",
       " 'Not disclosed',\n",
       " '25,00,000 - 40,00,000 PA.',\n",
       " '20,00,000 - 30,00,000 PA.',\n",
       " 'Not disclosed',\n",
       " 'Not disclosed',\n",
       " 'Not disclosed',\n",
       " '5,50,000 - 14,00,000 PA.']"
      ]
     },
     "execution_count": 184,
     "metadata": {},
     "output_type": "execute_result"
    }
   ],
   "source": [
    "salary_tag=driver.find_elements_by_xpath('//li[@class=\"fleft grey-text br2 placeHolderLi salary\"]/span')\n",
    "salary=[]\n",
    "for i in salary_tag:\n",
    "    salary.append(i.text)\n",
    "salary1=salary[:10]\n",
    "salary1"
   ]
  },
  {
   "cell_type": "code",
   "execution_count": 185,
   "metadata": {},
   "outputs": [
    {
     "data": {
      "text/plain": [
       "['Mumbai, Hyderabad/Secunderabad, Pune, Gurgaon/Gurugram, Chennai, Bangalore/Bengaluru',\n",
       " 'Bangalore/Bengaluru',\n",
       " 'Kolkata, Bangalore/Bengaluru, Delhi / NCR',\n",
       " 'Bangalore/Bengaluru',\n",
       " 'Bangalore/Bengaluru',\n",
       " 'Hyderabad/Secunderabad, Bangalore/Bengaluru, Delhi / NCR',\n",
       " 'Bangalore/Bengaluru',\n",
       " 'Bangalore/Bengaluru',\n",
       " 'Bangalore/Bengaluru',\n",
       " 'Bangalore/Bengaluru, Mumbai (All Areas)']"
      ]
     },
     "execution_count": 185,
     "metadata": {},
     "output_type": "execute_result"
    }
   ],
   "source": [
    "location_tag=driver.find_elements_by_xpath('//li[@class=\"fleft grey-text br2 placeHolderLi location\"]/span')\n",
    "location=[]\n",
    "for i in location_tag:\n",
    "    location.append(i.text)\n",
    "location1=location[0:10]\n",
    "location1"
   ]
  },
  {
   "cell_type": "code",
   "execution_count": 204,
   "metadata": {},
   "outputs": [],
   "source": [
    "jd1_url='https://www.naukri.com/job-listings-data-scientist-data-analyst-business-analyst-inflexion-analytix-private-limited-mumbai-hyderabad-secunderabad-pune-gurgaon-gurugram-chennai-bangalore-bengaluru-0-to-3-years-100521000368?src=jobsearchDesk&sid=16236512688773045&xp=1&px=1'\n",
    "jd2_url='https://www.naukri.com/job-listings-data-scientist-global-talent-pool-bangalore-bengaluru-0-to-2-years-310521500397?src=jobsearchDesk&sid=16236512688773045&xp=2&px=1'\n",
    "jd3_url='https://www.naukri.com/job-listings-data-analytics-data-scientist-intern-work-from-home-talkvalley-llc-kolkata-bangalore-bengaluru-delhi-ncr-0-to-5-years-050621000128?src=jobsearchDesk&sid=16236512688773045&xp=3&px=1'\n",
    "jd4_url='https://www.naukri.com/job-listings-senior-data-scientist-redbus-in-ibibo-group-private-limited-bangalore-bengaluru-5-to-8-years-090621001584?src=jobsearchDesk&sid=16236512688773045&xp=4&px=1'\n",
    "jd5_url='https://www.naukri.com/job-listings-vp-sr-data-scientist-for-morgan-stanley-bangalore-morgan-stanley-advantage-services-pvt-ltd-bangalore-bengaluru-8-to-13-years-010621002131?src=jobsearchDesk&sid=16236512688773045&xp=5&px=1'\n",
    "jd6_url='https://www.naukri.com/job-listings-senior-data-scientist-infocrunch-campaigns-pvt-ltd-hyderabad-secunderabad-bangalore-bengaluru-delhi-ncr-3-to-7-years-140621000178?src=jobsearchDesk&sid=16236512688773045&xp=6&px=1'\n",
    "jd7_url='https://www.naukri.com/job-listings-senior-data-scientist-walmart-labs-bangalore-bengaluru-8-to-10-years-020621500403?src=jobsearchDesk&sid=16236512688773045&xp=7&px=1'\n",
    "jd8_url='https://www.naukri.com/job-listings-senior-data-scientist-execboardinasia-bangalore-bengaluru-5-to-10-years-030621500359?src=jobsearchDesk&sid=16236512688773045&xp=8&px=1'\n",
    "jd9_url='https://www.naukri.com/job-listings-senior-data-scientist-perform-group-bangalore-bengaluru-4-to-7-years-310521501774?src=jobsearchDesk&sid=16236512688773045&xp=9&px=1'\n",
    "jd10_url='https://www.naukri.com/job-listings-sr-data-scientist-intelligent-industrial-internet-systems-pvt-ltd-bangalore-bengaluru-mumbai-all-areas-3-to-6-years-030621003155?src=jobsearchDesk&sid=16236512688773045&xp=10&px=1'"
   ]
  },
  {
   "cell_type": "code",
   "execution_count": null,
   "metadata": {},
   "outputs": [],
   "source": [
    "jd_url=[jd1_url,jd2_url,jd3_url,jd5_url,jd6_url,jd7_url,jd8_url,jd9_url,jd10_url]\n",
    "jd=[]\n",
    "for i in jd_url:\n",
    "    driver=webdriver.Chrome('chromedriver.exe')\n",
    "    driver.get(i)\n",
    "    jd_tag=driver.find_element_by_xpath('//div[@class=\"dang-inner-html\"]')\n",
    "    jd.append(jd_tag.text.replace('\\n',''))\n",
    "jd    \n",
    "    "
   ]
  },
  {
   "cell_type": "code",
   "execution_count": null,
   "metadata": {},
   "outputs": [],
   "source": [
    "driver= webdriver.Chrome('chromedriver.exe')\n",
    "jd4_url='https://www.naukri.com/job-listings-senior-data-scientist-redbus-in-ibibo-group-private-limited-bangalore-bengaluru-5-to-8-years-090621001584?src=jobsearchDesk&sid=16236512688773045&xp=4&px=1'\n",
    "driver.get(jd4_url)\n",
    "jd4_tag=driver.find_element_by_xpath('//div[@class=\"clearboth description\"]')\n",
    "jd4=[]\n",
    "jd4.append(jd4_tag.text.replace('\\n',''))\n",
    "jd4"
   ]
  },
  {
   "cell_type": "code",
   "execution_count": 216,
   "metadata": {},
   "outputs": [
    {
     "data": {
      "text/plain": [
       "10"
      ]
     },
     "execution_count": 216,
     "metadata": {},
     "output_type": "execute_result"
    }
   ],
   "source": [
    "jd.insert(3,jd4)\n",
    "len(jd)"
   ]
  },
  {
   "cell_type": "code",
   "execution_count": 217,
   "metadata": {},
   "outputs": [
    {
     "data": {
      "text/html": [
       "<div>\n",
       "<style scoped>\n",
       "    .dataframe tbody tr th:only-of-type {\n",
       "        vertical-align: middle;\n",
       "    }\n",
       "\n",
       "    .dataframe tbody tr th {\n",
       "        vertical-align: top;\n",
       "    }\n",
       "\n",
       "    .dataframe thead th {\n",
       "        text-align: right;\n",
       "    }\n",
       "</style>\n",
       "<table border=\"1\" class=\"dataframe\">\n",
       "  <thead>\n",
       "    <tr style=\"text-align: right;\">\n",
       "      <th></th>\n",
       "      <th>Job Title</th>\n",
       "      <th>Company Name</th>\n",
       "      <th>Experience</th>\n",
       "      <th>Salary</th>\n",
       "      <th>Location</th>\n",
       "      <th>Job Description</th>\n",
       "    </tr>\n",
       "  </thead>\n",
       "  <tbody>\n",
       "    <tr>\n",
       "      <th>0</th>\n",
       "      <td>Data Scientist / Data Analyst -Business Analyst</td>\n",
       "      <td>Inflexion Analytix Private Limited</td>\n",
       "      <td>0-3 Yrs</td>\n",
       "      <td>3,50,000 - 4,50,000 PA.</td>\n",
       "      <td>Mumbai, Hyderabad/Secunderabad, Pune, Gurgaon/...</td>\n",
       "      <td>Job Role : Data Scientist/Data Analyst /Busine...</td>\n",
       "    </tr>\n",
       "    <tr>\n",
       "      <th>1</th>\n",
       "      <td>data scientist</td>\n",
       "      <td>Global Talent Pool</td>\n",
       "      <td>0-2 Yrs</td>\n",
       "      <td>Not disclosed</td>\n",
       "      <td>Bangalore/Bengaluru</td>\n",
       "      <td>Essential Duties ResponsibilitiesPerform basic...</td>\n",
       "    </tr>\n",
       "    <tr>\n",
       "      <th>2</th>\n",
       "      <td>Data analytics / Data scientist intern (work f...</td>\n",
       "      <td>TalkValley LLC</td>\n",
       "      <td>0-5 Yrs</td>\n",
       "      <td>2,00,000 - 3,00,000 PA.</td>\n",
       "      <td>Kolkata, Bangalore/Bengaluru, Delhi / NCR</td>\n",
       "      <td>We are a group of tenured professors from Tier...</td>\n",
       "    </tr>\n",
       "    <tr>\n",
       "      <th>3</th>\n",
       "      <td>Senior Data Scientist</td>\n",
       "      <td>RedBus</td>\n",
       "      <td>5-8 Yrs</td>\n",
       "      <td>Not disclosed</td>\n",
       "      <td>Bangalore/Bengaluru</td>\n",
       "      <td>[Job Role: Senior Data ScientistReporting To: ...</td>\n",
       "    </tr>\n",
       "    <tr>\n",
       "      <th>4</th>\n",
       "      <td>VP - Sr. Data Scientist For Morgan Stanley, Ba...</td>\n",
       "      <td>Morgan Stanley Advantage Services</td>\n",
       "      <td>8-13 Yrs</td>\n",
       "      <td>25,00,000 - 40,00,000 PA.</td>\n",
       "      <td>Bangalore/Bengaluru</td>\n",
       "      <td>About UsMorgan Stanley is a leading global fin...</td>\n",
       "    </tr>\n",
       "    <tr>\n",
       "      <th>5</th>\n",
       "      <td>Senior Data Scientist</td>\n",
       "      <td>Infocrunch Campaigns Pvt Ltd</td>\n",
       "      <td>3-7 Yrs</td>\n",
       "      <td>20,00,000 - 30,00,000 PA.</td>\n",
       "      <td>Hyderabad/Secunderabad, Bangalore/Bengaluru, D...</td>\n",
       "      <td>We are looking for a highly capable Data Scien...</td>\n",
       "    </tr>\n",
       "    <tr>\n",
       "      <th>6</th>\n",
       "      <td>Senior Data Scientist</td>\n",
       "      <td>Walmart Labs</td>\n",
       "      <td>8-10 Yrs</td>\n",
       "      <td>Not disclosed</td>\n",
       "      <td>Bangalore/Bengaluru</td>\n",
       "      <td>As a Senior Data Scientist for Walmart Labs, y...</td>\n",
       "    </tr>\n",
       "    <tr>\n",
       "      <th>7</th>\n",
       "      <td>Senior Data Scientist</td>\n",
       "      <td>ExecBoardinAsia</td>\n",
       "      <td>5-10 Yrs</td>\n",
       "      <td>Not disclosed</td>\n",
       "      <td>Bangalore/Bengaluru</td>\n",
       "      <td>The Senior Data Scientist is an exciting role ...</td>\n",
       "    </tr>\n",
       "    <tr>\n",
       "      <th>8</th>\n",
       "      <td>Senior Data Scientist</td>\n",
       "      <td>Perform Group</td>\n",
       "      <td>4-7 Yrs</td>\n",
       "      <td>Not disclosed</td>\n",
       "      <td>Bangalore/Bengaluru</td>\n",
       "      <td>Responsibilities: -Contribute across dierent s...</td>\n",
       "    </tr>\n",
       "    <tr>\n",
       "      <th>9</th>\n",
       "      <td>Sr Data Scientist</td>\n",
       "      <td>intelligent industrial internet systems pvt ltd.</td>\n",
       "      <td>3-6 Yrs</td>\n",
       "      <td>5,50,000 - 14,00,000 PA.</td>\n",
       "      <td>Bangalore/Bengaluru, Mumbai (All Areas)</td>\n",
       "      <td>Roles and Responsibilities- Create an industry...</td>\n",
       "    </tr>\n",
       "  </tbody>\n",
       "</table>\n",
       "</div>"
      ],
      "text/plain": [
       "                                           Job Title  \\\n",
       "0    Data Scientist / Data Analyst -Business Analyst   \n",
       "1                                     data scientist   \n",
       "2  Data analytics / Data scientist intern (work f...   \n",
       "3                              Senior Data Scientist   \n",
       "4  VP - Sr. Data Scientist For Morgan Stanley, Ba...   \n",
       "5                              Senior Data Scientist   \n",
       "6                              Senior Data Scientist   \n",
       "7                              Senior Data Scientist   \n",
       "8                              Senior Data Scientist   \n",
       "9                                  Sr Data Scientist   \n",
       "\n",
       "                                       Company Name Experience  \\\n",
       "0                Inflexion Analytix Private Limited    0-3 Yrs   \n",
       "1                                Global Talent Pool    0-2 Yrs   \n",
       "2                                    TalkValley LLC    0-5 Yrs   \n",
       "3                                            RedBus    5-8 Yrs   \n",
       "4                 Morgan Stanley Advantage Services   8-13 Yrs   \n",
       "5                      Infocrunch Campaigns Pvt Ltd    3-7 Yrs   \n",
       "6                                      Walmart Labs   8-10 Yrs   \n",
       "7                                   ExecBoardinAsia   5-10 Yrs   \n",
       "8                                     Perform Group    4-7 Yrs   \n",
       "9  intelligent industrial internet systems pvt ltd.    3-6 Yrs   \n",
       "\n",
       "                      Salary  \\\n",
       "0    3,50,000 - 4,50,000 PA.   \n",
       "1              Not disclosed   \n",
       "2    2,00,000 - 3,00,000 PA.   \n",
       "3              Not disclosed   \n",
       "4  25,00,000 - 40,00,000 PA.   \n",
       "5  20,00,000 - 30,00,000 PA.   \n",
       "6              Not disclosed   \n",
       "7              Not disclosed   \n",
       "8              Not disclosed   \n",
       "9   5,50,000 - 14,00,000 PA.   \n",
       "\n",
       "                                            Location  \\\n",
       "0  Mumbai, Hyderabad/Secunderabad, Pune, Gurgaon/...   \n",
       "1                                Bangalore/Bengaluru   \n",
       "2          Kolkata, Bangalore/Bengaluru, Delhi / NCR   \n",
       "3                                Bangalore/Bengaluru   \n",
       "4                                Bangalore/Bengaluru   \n",
       "5  Hyderabad/Secunderabad, Bangalore/Bengaluru, D...   \n",
       "6                                Bangalore/Bengaluru   \n",
       "7                                Bangalore/Bengaluru   \n",
       "8                                Bangalore/Bengaluru   \n",
       "9            Bangalore/Bengaluru, Mumbai (All Areas)   \n",
       "\n",
       "                                     Job Description  \n",
       "0  Job Role : Data Scientist/Data Analyst /Busine...  \n",
       "1  Essential Duties ResponsibilitiesPerform basic...  \n",
       "2  We are a group of tenured professors from Tier...  \n",
       "3  [Job Role: Senior Data ScientistReporting To: ...  \n",
       "4  About UsMorgan Stanley is a leading global fin...  \n",
       "5  We are looking for a highly capable Data Scien...  \n",
       "6  As a Senior Data Scientist for Walmart Labs, y...  \n",
       "7  The Senior Data Scientist is an exciting role ...  \n",
       "8  Responsibilities: -Contribute across dierent s...  \n",
       "9  Roles and Responsibilities- Create an industry...  "
      ]
     },
     "execution_count": 217,
     "metadata": {},
     "output_type": "execute_result"
    }
   ],
   "source": [
    "df_DataScientist=pd.DataFrame({})\n",
    "df_DataScientist['Job Title']=job1\n",
    "df_DataScientist['Company Name']=company1\n",
    "df_DataScientist['Experience']=experience1\n",
    "df_DataScientist['Salary']=salary1\n",
    "df_DataScientist['Location']=location1\n",
    "df_DataScientist['Job Description']=jd\n",
    "df_DataScientist"
   ]
  },
  {
   "cell_type": "code",
   "execution_count": null,
   "metadata": {},
   "outputs": [],
   "source": []
  },
  {
   "cell_type": "markdown",
   "metadata": {},
   "source": [
    "# Answer 3. In this question you have to scrape data using the filters available on the webpage as shown below: the webpage https://www.naukri.com/"
   ]
  },
  {
   "cell_type": "code",
   "execution_count": 236,
   "metadata": {},
   "outputs": [],
   "source": [
    "driver= webdriver.Chrome('chromedriver.exe')\n",
    "url='https://www.naukri.com/'\n",
    "driver.get(url)"
   ]
  },
  {
   "cell_type": "code",
   "execution_count": 237,
   "metadata": {},
   "outputs": [],
   "source": [
    "search_job=driver.find_element_by_id('qsb-keyword-sugg')\n",
    "search_job\n",
    "search_job=driver.find_element_by_xpath('/html/body/div[1]/div[3]/div[2]/section/div/form/div[1]/div/div/div/div[1]/div[2]/input')\n",
    "search_job.send_keys('Data Scientist')"
   ]
  },
  {
   "cell_type": "code",
   "execution_count": 238,
   "metadata": {},
   "outputs": [],
   "source": [
    "search_loc=driver.find_element_by_id('qsb-location-sugg')\n",
    "search_loc.send_keys('Bangalore')\n",
    "search_btn=driver.find_element_by_class_name('btn').click()\n",
    "search_btn"
   ]
  },
  {
   "cell_type": "code",
   "execution_count": 240,
   "metadata": {},
   "outputs": [],
   "source": [
    "loc_tag=driver.find_element_by_xpath('//span[@title=\"Delhi / NCR\"]').click()\n",
    "sal_tag=driver.find_element_by_xpath('//span[@title=\"0-3 Lakhs\"]').click()"
   ]
  },
  {
   "cell_type": "code",
   "execution_count": 241,
   "metadata": {},
   "outputs": [
    {
     "data": {
      "text/plain": [
       "['Market Research Intern',\n",
       " 'Opening with leading edtech startup _ Platform Engineer',\n",
       " 'Data science/Machine Learning trainer_Part time_Anywhere in india',\n",
       " 'Devops Content Developer',\n",
       " 'Marketing & Data Management Executive',\n",
       " 'UI UX Designer',\n",
       " 'IOS Developer',\n",
       " 'Marketing Content Developer',\n",
       " 'Content Writer Intern',\n",
       " 'HR IT Recruiter || Work from Home']"
      ]
     },
     "execution_count": 241,
     "metadata": {},
     "output_type": "execute_result"
    }
   ],
   "source": [
    "job_tag=driver.find_elements_by_xpath('//a[@class=\"title fw500 ellipsis\"]')\n",
    "job=[]\n",
    "for i in job_tag:\n",
    "    job.append(i.text)\n",
    "job1=job[:10]\n",
    "job1"
   ]
  },
  {
   "cell_type": "code",
   "execution_count": 242,
   "metadata": {},
   "outputs": [
    {
     "data": {
      "text/plain": [
       "['Bangalore/Bengaluru, Delhi / NCR, Mumbai (All Areas)',\n",
       " 'Bangalore/Bengaluru, Delhi / NCR, Mumbai (All Areas)',\n",
       " 'Bangalore/Bengaluru, Delhi / NCR, Mumbai (All Areas)',\n",
       " 'Bangalore/Bengaluru, Delhi / NCR, Mumbai (All Areas)',\n",
       " 'Bangalore/Bengaluru, Delhi / NCR, Mumbai (All Areas)',\n",
       " 'Bangalore/Bengaluru, Delhi / NCR, Mumbai (All Areas)',\n",
       " 'Bangalore/Bengaluru, Delhi / NCR, Mumbai (All Areas)',\n",
       " 'Bangalore/Bengaluru, Delhi / NCR, Mumbai (All Areas)',\n",
       " 'Bangalore/Bengaluru, Delhi / NCR, Mumbai (All Areas)',\n",
       " 'Bangalore/Bengaluru, Delhi / NCR, Mumbai (All Areas)']"
      ]
     },
     "execution_count": 242,
     "metadata": {},
     "output_type": "execute_result"
    }
   ],
   "source": [
    "location_tag=driver.find_elements_by_xpath('//li[@class=\"fleft grey-text br2 placeHolderLi location\"]/span')\n",
    "location=[]\n",
    "for i in location_tag:\n",
    "    location.append(i.text)\n",
    "location1=location[:10]\n",
    "location1"
   ]
  },
  {
   "cell_type": "code",
   "execution_count": 244,
   "metadata": {},
   "outputs": [
    {
     "data": {
      "text/plain": [
       "['Jobs Territory',\n",
       " 'CIEL HR Services Pvt Ltd',\n",
       " 'Synergistic Compusoft Private Limited',\n",
       " 'Data is Good',\n",
       " 'PINNACLE COSMOS (PASSION TO ACHIVE A GOAL)',\n",
       " 'Webindia Master',\n",
       " 'Unacademy R&D',\n",
       " 'Data is Good',\n",
       " 'Jobs Territory',\n",
       " 'Enigma Human Capital Services Private Limited.']"
      ]
     },
     "execution_count": 244,
     "metadata": {},
     "output_type": "execute_result"
    }
   ],
   "source": [
    "company_tag=driver.find_elements_by_xpath('//a[@class=\"subTitle ellipsis fleft\"]')\n",
    "company=[]\n",
    "for i in company_tag:\n",
    "    company.append(i.text)\n",
    "company1=company[:10]\n",
    "company1"
   ]
  },
  {
   "cell_type": "code",
   "execution_count": 245,
   "metadata": {},
   "outputs": [
    {
     "data": {
      "text/plain": [
       "['0-1 Yrs',\n",
       " '4-8 Yrs',\n",
       " '5-9 Yrs',\n",
       " '0-1 Yrs',\n",
       " '3-5 Yrs',\n",
       " '0-2 Yrs',\n",
       " '2-7 Yrs',\n",
       " '0-1 Yrs',\n",
       " '0-1 Yrs',\n",
       " '1-5 Yrs']"
      ]
     },
     "execution_count": 245,
     "metadata": {},
     "output_type": "execute_result"
    }
   ],
   "source": [
    "experience_tag=driver.find_elements_by_xpath('//li[@class=\"fleft grey-text br2 placeHolderLi experience\"]/span')\n",
    "experience=[]\n",
    "for i in experience_tag:\n",
    "    experience.append(i.text)\n",
    "experience1=experience[:10]\n",
    "experience1"
   ]
  },
  {
   "cell_type": "code",
   "execution_count": 246,
   "metadata": {},
   "outputs": [
    {
     "data": {
      "text/html": [
       "<div>\n",
       "<style scoped>\n",
       "    .dataframe tbody tr th:only-of-type {\n",
       "        vertical-align: middle;\n",
       "    }\n",
       "\n",
       "    .dataframe tbody tr th {\n",
       "        vertical-align: top;\n",
       "    }\n",
       "\n",
       "    .dataframe thead th {\n",
       "        text-align: right;\n",
       "    }\n",
       "</style>\n",
       "<table border=\"1\" class=\"dataframe\">\n",
       "  <thead>\n",
       "    <tr style=\"text-align: right;\">\n",
       "      <th></th>\n",
       "      <th>Job Title</th>\n",
       "      <th>Company Name</th>\n",
       "      <th>Experience</th>\n",
       "      <th>Location</th>\n",
       "    </tr>\n",
       "  </thead>\n",
       "  <tbody>\n",
       "    <tr>\n",
       "      <th>0</th>\n",
       "      <td>Market Research Intern</td>\n",
       "      <td>Jobs Territory</td>\n",
       "      <td>0-1 Yrs</td>\n",
       "      <td>Bangalore/Bengaluru, Delhi / NCR, Mumbai (All ...</td>\n",
       "    </tr>\n",
       "    <tr>\n",
       "      <th>1</th>\n",
       "      <td>Opening with leading edtech startup _ Platform...</td>\n",
       "      <td>CIEL HR Services Pvt Ltd</td>\n",
       "      <td>4-8 Yrs</td>\n",
       "      <td>Bangalore/Bengaluru, Delhi / NCR, Mumbai (All ...</td>\n",
       "    </tr>\n",
       "    <tr>\n",
       "      <th>2</th>\n",
       "      <td>Data science/Machine Learning trainer_Part tim...</td>\n",
       "      <td>Synergistic Compusoft Private Limited</td>\n",
       "      <td>5-9 Yrs</td>\n",
       "      <td>Bangalore/Bengaluru, Delhi / NCR, Mumbai (All ...</td>\n",
       "    </tr>\n",
       "    <tr>\n",
       "      <th>3</th>\n",
       "      <td>Devops Content Developer</td>\n",
       "      <td>Data is Good</td>\n",
       "      <td>0-1 Yrs</td>\n",
       "      <td>Bangalore/Bengaluru, Delhi / NCR, Mumbai (All ...</td>\n",
       "    </tr>\n",
       "    <tr>\n",
       "      <th>4</th>\n",
       "      <td>Marketing &amp; Data Management Executive</td>\n",
       "      <td>PINNACLE COSMOS (PASSION TO ACHIVE A GOAL)</td>\n",
       "      <td>3-5 Yrs</td>\n",
       "      <td>Bangalore/Bengaluru, Delhi / NCR, Mumbai (All ...</td>\n",
       "    </tr>\n",
       "    <tr>\n",
       "      <th>5</th>\n",
       "      <td>UI UX Designer</td>\n",
       "      <td>Webindia Master</td>\n",
       "      <td>0-2 Yrs</td>\n",
       "      <td>Bangalore/Bengaluru, Delhi / NCR, Mumbai (All ...</td>\n",
       "    </tr>\n",
       "    <tr>\n",
       "      <th>6</th>\n",
       "      <td>IOS Developer</td>\n",
       "      <td>Unacademy R&amp;D</td>\n",
       "      <td>2-7 Yrs</td>\n",
       "      <td>Bangalore/Bengaluru, Delhi / NCR, Mumbai (All ...</td>\n",
       "    </tr>\n",
       "    <tr>\n",
       "      <th>7</th>\n",
       "      <td>Marketing Content Developer</td>\n",
       "      <td>Data is Good</td>\n",
       "      <td>0-1 Yrs</td>\n",
       "      <td>Bangalore/Bengaluru, Delhi / NCR, Mumbai (All ...</td>\n",
       "    </tr>\n",
       "    <tr>\n",
       "      <th>8</th>\n",
       "      <td>Content Writer Intern</td>\n",
       "      <td>Jobs Territory</td>\n",
       "      <td>0-1 Yrs</td>\n",
       "      <td>Bangalore/Bengaluru, Delhi / NCR, Mumbai (All ...</td>\n",
       "    </tr>\n",
       "    <tr>\n",
       "      <th>9</th>\n",
       "      <td>HR IT Recruiter || Work from Home</td>\n",
       "      <td>Enigma Human Capital Services Private Limited.</td>\n",
       "      <td>1-5 Yrs</td>\n",
       "      <td>Bangalore/Bengaluru, Delhi / NCR, Mumbai (All ...</td>\n",
       "    </tr>\n",
       "  </tbody>\n",
       "</table>\n",
       "</div>"
      ],
      "text/plain": [
       "                                           Job Title  \\\n",
       "0                             Market Research Intern   \n",
       "1  Opening with leading edtech startup _ Platform...   \n",
       "2  Data science/Machine Learning trainer_Part tim...   \n",
       "3                           Devops Content Developer   \n",
       "4              Marketing & Data Management Executive   \n",
       "5                                     UI UX Designer   \n",
       "6                                      IOS Developer   \n",
       "7                        Marketing Content Developer   \n",
       "8                              Content Writer Intern   \n",
       "9                  HR IT Recruiter || Work from Home   \n",
       "\n",
       "                                     Company Name Experience  \\\n",
       "0                                  Jobs Territory    0-1 Yrs   \n",
       "1                        CIEL HR Services Pvt Ltd    4-8 Yrs   \n",
       "2           Synergistic Compusoft Private Limited    5-9 Yrs   \n",
       "3                                    Data is Good    0-1 Yrs   \n",
       "4      PINNACLE COSMOS (PASSION TO ACHIVE A GOAL)    3-5 Yrs   \n",
       "5                                 Webindia Master    0-2 Yrs   \n",
       "6                                   Unacademy R&D    2-7 Yrs   \n",
       "7                                    Data is Good    0-1 Yrs   \n",
       "8                                  Jobs Territory    0-1 Yrs   \n",
       "9  Enigma Human Capital Services Private Limited.    1-5 Yrs   \n",
       "\n",
       "                                            Location  \n",
       "0  Bangalore/Bengaluru, Delhi / NCR, Mumbai (All ...  \n",
       "1  Bangalore/Bengaluru, Delhi / NCR, Mumbai (All ...  \n",
       "2  Bangalore/Bengaluru, Delhi / NCR, Mumbai (All ...  \n",
       "3  Bangalore/Bengaluru, Delhi / NCR, Mumbai (All ...  \n",
       "4  Bangalore/Bengaluru, Delhi / NCR, Mumbai (All ...  \n",
       "5  Bangalore/Bengaluru, Delhi / NCR, Mumbai (All ...  \n",
       "6  Bangalore/Bengaluru, Delhi / NCR, Mumbai (All ...  \n",
       "7  Bangalore/Bengaluru, Delhi / NCR, Mumbai (All ...  \n",
       "8  Bangalore/Bengaluru, Delhi / NCR, Mumbai (All ...  \n",
       "9  Bangalore/Bengaluru, Delhi / NCR, Mumbai (All ...  "
      ]
     },
     "execution_count": 246,
     "metadata": {},
     "output_type": "execute_result"
    }
   ],
   "source": [
    "df_jobfilter=pd.DataFrame({})\n",
    "df_jobfilter['Job Title']=job1\n",
    "df_jobfilter['Company Name']=company1\n",
    "df_jobfilter['Experience']=experience1\n",
    "df_jobfilter['Location']=location1\n",
    "df_jobfilter"
   ]
  },
  {
   "cell_type": "markdown",
   "metadata": {},
   "source": [
    "# Answer 4. Write a python program to scrape data for first 10 job results for Data scientist Designation in Noida location. You have to scrape company_name, No. of days ago when job was posted, Rating of the company."
   ]
  },
  {
   "cell_type": "code",
   "execution_count": 267,
   "metadata": {},
   "outputs": [],
   "source": [
    "driver= webdriver.Chrome('chromedriver.exe')\n",
    "url='https://www.glassdoor.co.in/index.htm'\n",
    "driver.get(url)"
   ]
  },
  {
   "cell_type": "code",
   "execution_count": 269,
   "metadata": {},
   "outputs": [],
   "source": [
    "search_job=driver.find_element_by_xpath('/html/body/header/nav[1]/div/div/div/div[4]/div[3]/form/div/div[1]/div/div/input')\n",
    "search_job.send_keys('Data Scientist')"
   ]
  },
  {
   "cell_type": "code",
   "execution_count": 270,
   "metadata": {},
   "outputs": [],
   "source": [
    "search_loc=driver.find_element_by_xpath('/html/body/header/nav[1]/div/div/div/div[4]/div[3]/form/div/div[3]/div/input')\n",
    "search_loc.send_keys('Noida')\n",
    "search_btn=driver.find_element_by_xpath('//button[@class=\"gd-ui-button ml-std col-auto SearchStyles__newSearchButton css-iixdfr\"]').click()\n",
    "search_btn"
   ]
  },
  {
   "cell_type": "code",
   "execution_count": 275,
   "metadata": {},
   "outputs": [
    {
     "data": {
      "text/plain": [
       "['Data Scientist',\n",
       " 'Staff/Lead Data Scientist',\n",
       " 'Data Scientist',\n",
       " 'Data Scientist - Machine Leaning, Python - Bangalore, KA',\n",
       " 'Data Scientist',\n",
       " 'Data Scientist, Engineering',\n",
       " 'Sr Software Engineer II (Sr Architect), Data - Core Data Platform',\n",
       " 'data scientist',\n",
       " 'Data Scientist',\n",
       " 'Data Scientist Intern']"
      ]
     },
     "execution_count": 275,
     "metadata": {},
     "output_type": "execute_result"
    }
   ],
   "source": [
    "job_tag=driver.find_elements_by_xpath('//a[@class=\"jobLink css-1rd3saf eigr9kq2\"]/span')\n",
    "job=[]\n",
    "for i in job_tag:\n",
    "    job.append(i.text)\n",
    "job1=job[:10]\n",
    "job1"
   ]
  },
  {
   "cell_type": "code",
   "execution_count": 276,
   "metadata": {},
   "outputs": [
    {
     "data": {
      "text/plain": [
       "['Applied Materials Inc.',\n",
       " 'Salesforce',\n",
       " 'Maersk',\n",
       " 'UnitedHealth Group',\n",
       " 'Netradyne',\n",
       " 'Google',\n",
       " 'Uber',\n",
       " 'Randstad',\n",
       " 'Skoruz',\n",
       " 'ADCI - Karnataka']"
      ]
     },
     "execution_count": 276,
     "metadata": {},
     "output_type": "execute_result"
    }
   ],
   "source": [
    "company_tag=driver.find_elements_by_xpath('//div[@class=\"d-flex justify-content-between align-items-start\"]/a/span')\n",
    "company=[]\n",
    "for i in company_tag:\n",
    "    company.append(i.text)\n",
    "company1=company[:10]\n",
    "company1"
   ]
  },
  {
   "cell_type": "code",
   "execution_count": 277,
   "metadata": {},
   "outputs": [
    {
     "data": {
      "text/plain": [
       "['4d', '12d', '3d', '2d', '6d', '2d', '3d', '2d', '11d', '3d']"
      ]
     },
     "execution_count": 277,
     "metadata": {},
     "output_type": "execute_result"
    }
   ],
   "source": [
    "days_tag=driver.find_elements_by_xpath('//div[@data-test=\"job-age\"]')\n",
    "days=[]\n",
    "for i in days_tag:\n",
    "    days.append(i.text)\n",
    "days1=days[:10]\n",
    "days1"
   ]
  },
  {
   "cell_type": "code",
   "execution_count": 278,
   "metadata": {},
   "outputs": [
    {
     "data": {
      "text/plain": [
       "['4.0', '4.5', '4.1', '3.6', '3.5', '4.5', '4.3', '3.9', '3.8', '4.3']"
      ]
     },
     "execution_count": 278,
     "metadata": {},
     "output_type": "execute_result"
    }
   ],
   "source": [
    "rating_tag=driver.find_elements_by_xpath('//span[@class=\"css-19pjha7 e1cjmv6j1\"]')\n",
    "rating=[]\n",
    "for i in rating_tag:\n",
    "    rating.append(i.text)\n",
    "rating1=rating[:10]\n",
    "rating1"
   ]
  },
  {
   "cell_type": "code",
   "execution_count": 280,
   "metadata": {},
   "outputs": [
    {
     "data": {
      "text/html": [
       "<div>\n",
       "<style scoped>\n",
       "    .dataframe tbody tr th:only-of-type {\n",
       "        vertical-align: middle;\n",
       "    }\n",
       "\n",
       "    .dataframe tbody tr th {\n",
       "        vertical-align: top;\n",
       "    }\n",
       "\n",
       "    .dataframe thead th {\n",
       "        text-align: right;\n",
       "    }\n",
       "</style>\n",
       "<table border=\"1\" class=\"dataframe\">\n",
       "  <thead>\n",
       "    <tr style=\"text-align: right;\">\n",
       "      <th></th>\n",
       "      <th>Job Title</th>\n",
       "      <th>Company Name</th>\n",
       "      <th>Days of Posting</th>\n",
       "      <th>Rating of Company</th>\n",
       "    </tr>\n",
       "  </thead>\n",
       "  <tbody>\n",
       "    <tr>\n",
       "      <th>0</th>\n",
       "      <td>Data Scientist</td>\n",
       "      <td>Applied Materials Inc.</td>\n",
       "      <td>4d</td>\n",
       "      <td>4.0</td>\n",
       "    </tr>\n",
       "    <tr>\n",
       "      <th>1</th>\n",
       "      <td>Staff/Lead Data Scientist</td>\n",
       "      <td>Salesforce</td>\n",
       "      <td>12d</td>\n",
       "      <td>4.5</td>\n",
       "    </tr>\n",
       "    <tr>\n",
       "      <th>2</th>\n",
       "      <td>Data Scientist</td>\n",
       "      <td>Maersk</td>\n",
       "      <td>3d</td>\n",
       "      <td>4.1</td>\n",
       "    </tr>\n",
       "    <tr>\n",
       "      <th>3</th>\n",
       "      <td>Data Scientist - Machine Leaning, Python - Ban...</td>\n",
       "      <td>UnitedHealth Group</td>\n",
       "      <td>2d</td>\n",
       "      <td>3.6</td>\n",
       "    </tr>\n",
       "    <tr>\n",
       "      <th>4</th>\n",
       "      <td>Data Scientist</td>\n",
       "      <td>Netradyne</td>\n",
       "      <td>6d</td>\n",
       "      <td>3.5</td>\n",
       "    </tr>\n",
       "    <tr>\n",
       "      <th>5</th>\n",
       "      <td>Data Scientist, Engineering</td>\n",
       "      <td>Google</td>\n",
       "      <td>2d</td>\n",
       "      <td>4.5</td>\n",
       "    </tr>\n",
       "    <tr>\n",
       "      <th>6</th>\n",
       "      <td>Sr Software Engineer II (Sr Architect), Data -...</td>\n",
       "      <td>Uber</td>\n",
       "      <td>3d</td>\n",
       "      <td>4.3</td>\n",
       "    </tr>\n",
       "    <tr>\n",
       "      <th>7</th>\n",
       "      <td>data scientist</td>\n",
       "      <td>Randstad</td>\n",
       "      <td>2d</td>\n",
       "      <td>3.9</td>\n",
       "    </tr>\n",
       "    <tr>\n",
       "      <th>8</th>\n",
       "      <td>Data Scientist</td>\n",
       "      <td>Skoruz</td>\n",
       "      <td>11d</td>\n",
       "      <td>3.8</td>\n",
       "    </tr>\n",
       "    <tr>\n",
       "      <th>9</th>\n",
       "      <td>Data Scientist Intern</td>\n",
       "      <td>ADCI - Karnataka</td>\n",
       "      <td>3d</td>\n",
       "      <td>4.3</td>\n",
       "    </tr>\n",
       "  </tbody>\n",
       "</table>\n",
       "</div>"
      ],
      "text/plain": [
       "                                           Job Title            Company Name  \\\n",
       "0                                     Data Scientist  Applied Materials Inc.   \n",
       "1                          Staff/Lead Data Scientist              Salesforce   \n",
       "2                                     Data Scientist                  Maersk   \n",
       "3  Data Scientist - Machine Leaning, Python - Ban...      UnitedHealth Group   \n",
       "4                                     Data Scientist               Netradyne   \n",
       "5                        Data Scientist, Engineering                  Google   \n",
       "6  Sr Software Engineer II (Sr Architect), Data -...                    Uber   \n",
       "7                                     data scientist                Randstad   \n",
       "8                                     Data Scientist                  Skoruz   \n",
       "9                              Data Scientist Intern        ADCI - Karnataka   \n",
       "\n",
       "  Days of Posting Rating of Company  \n",
       "0              4d               4.0  \n",
       "1             12d               4.5  \n",
       "2              3d               4.1  \n",
       "3              2d               3.6  \n",
       "4              6d               3.5  \n",
       "5              2d               4.5  \n",
       "6              3d               4.3  \n",
       "7              2d               3.9  \n",
       "8             11d               3.8  \n",
       "9              3d               4.3  "
      ]
     },
     "execution_count": 280,
     "metadata": {},
     "output_type": "execute_result"
    }
   ],
   "source": [
    "df_jobGD=pd.DataFrame({})\n",
    "df_jobGD['Job Title']=job1\n",
    "df_jobGD['Company Name']=company1\n",
    "df_jobGD['Days of Posting']=days1\n",
    "df_jobGD['Rating of Company']=rating1\n",
    "df_jobGD"
   ]
  },
  {
   "cell_type": "markdown",
   "metadata": {},
   "source": [
    "# Answer 5. Write a python program to scrape the salary data for Data Scientist designation in Noida location.\n",
    "# You have to scrape Company name, Number of salaries, Average salary, Min salary, Max Salary."
   ]
  },
  {
   "cell_type": "code",
   "execution_count": null,
   "metadata": {},
   "outputs": [],
   "source": []
  },
  {
   "cell_type": "markdown",
   "metadata": {},
   "source": [
    "# Answer 6. Scrape data of first 100 sunglasses listings on flipkart.com. You have to scrape four attributes:\n",
    "# 1. Brand 2. Product Description 3. Price 4. Discount %"
   ]
  },
  {
   "cell_type": "code",
   "execution_count": 3,
   "metadata": {},
   "outputs": [],
   "source": [
    "driver= webdriver.Chrome('chromedriver.exe')\n",
    "url='https://www.flipkart.com/'\n",
    "driver.get(url)"
   ]
  },
  {
   "cell_type": "code",
   "execution_count": 4,
   "metadata": {},
   "outputs": [],
   "source": [
    "search_job=driver.find_element_by_xpath('/html/body/div/div/div[1]/div[1]/div[2]/div[2]/form/div/div/input')\n",
    "search_job.send_keys('Sunglasses')"
   ]
  },
  {
   "cell_type": "code",
   "execution_count": 5,
   "metadata": {},
   "outputs": [],
   "source": [
    "search_btn=driver.find_element_by_class_name('L0Z3Pu').click()\n",
    "search_btn"
   ]
  },
  {
   "cell_type": "code",
   "execution_count": 11,
   "metadata": {},
   "outputs": [],
   "source": [
    "for i in range(10):\n",
    "    try:\n",
    "        driver.find_element_by_xpath('//a[@class=\"_1LKTO3\"]').click()\n",
    "    except:\n",
    "        driver.find_element_by_xpath('//a[@class=\"_1LKTO3\"]').click()"
   ]
  },
  {
   "cell_type": "code",
   "execution_count": null,
   "metadata": {},
   "outputs": [],
   "source": [
    "brand=[]\n",
    "for i in range(3):\n",
    "    for j in driver.find_elements_by_xpath('//div[@class=\"_2WkVRV\"]'):\n",
    "        brand.append(j.text)\n",
    "        \n",
    "    driver.find_element_by_xpath('//div[@class=\"_2WkVRV\"]').click()\n",
    "print(len(brand))\n",
    "brand1=brand[:100]\n",
    "brand1"
   ]
  },
  {
   "cell_type": "code",
   "execution_count": 17,
   "metadata": {},
   "outputs": [
    {
     "name": "stdout",
     "output_type": "stream",
     "text": [
      "120\n"
     ]
    }
   ],
   "source": [
    "description=[]\n",
    "for i in range(3):\n",
    "    for j in driver.find_elements_by_xpath('//a[@class=\"IRpwTa\"]'):\n",
    "        description.append(j.text)\n",
    "        \n",
    "print(len(brand))\n",
    "description1=description[:100]"
   ]
  },
  {
   "cell_type": "code",
   "execution_count": 21,
   "metadata": {},
   "outputs": [
    {
     "name": "stdout",
     "output_type": "stream",
     "text": [
      "120\n"
     ]
    }
   ],
   "source": [
    "price=[]\n",
    "for i in range(3):\n",
    "    for j in driver.find_elements_by_xpath('//div[@class=\"_30jeq3\"]'):\n",
    "        price.append(j.text)\n",
    "\n",
    "print(len(price))\n",
    "price1=price[:100]"
   ]
  },
  {
   "cell_type": "code",
   "execution_count": 24,
   "metadata": {},
   "outputs": [
    {
     "name": "stdout",
     "output_type": "stream",
     "text": [
      "120\n"
     ]
    }
   ],
   "source": [
    "discount=[]\n",
    "for i in range(3):\n",
    "    for j in driver.find_elements_by_xpath('//div[@class=\"_3Ay6Sb\"]/span'):\n",
    "        discount.append(j.text)\n",
    "\n",
    "print(len(discount))\n",
    "discount1=discount[:100]"
   ]
  },
  {
   "cell_type": "code",
   "execution_count": 25,
   "metadata": {},
   "outputs": [
    {
     "data": {
      "text/html": [
       "<div>\n",
       "<style scoped>\n",
       "    .dataframe tbody tr th:only-of-type {\n",
       "        vertical-align: middle;\n",
       "    }\n",
       "\n",
       "    .dataframe tbody tr th {\n",
       "        vertical-align: top;\n",
       "    }\n",
       "\n",
       "    .dataframe thead th {\n",
       "        text-align: right;\n",
       "    }\n",
       "</style>\n",
       "<table border=\"1\" class=\"dataframe\">\n",
       "  <thead>\n",
       "    <tr style=\"text-align: right;\">\n",
       "      <th></th>\n",
       "      <th>Brand Name</th>\n",
       "      <th>Prodct Description</th>\n",
       "      <th>Price</th>\n",
       "      <th>Discount</th>\n",
       "    </tr>\n",
       "  </thead>\n",
       "  <tbody>\n",
       "    <tr>\n",
       "      <th>0</th>\n",
       "      <td>hipe</td>\n",
       "      <td>UV Protection Sports Sunglasses (Free Size)</td>\n",
       "      <td>₹319</td>\n",
       "      <td>83% off</td>\n",
       "    </tr>\n",
       "    <tr>\n",
       "      <th>1</th>\n",
       "      <td>NuVew</td>\n",
       "      <td>UV Protection Aviator Sunglasses (58)</td>\n",
       "      <td>₹204</td>\n",
       "      <td>74% off</td>\n",
       "    </tr>\n",
       "    <tr>\n",
       "      <th>2</th>\n",
       "      <td>Fastrack</td>\n",
       "      <td>UV Protection Wayfarer Sunglasses (Free Size)</td>\n",
       "      <td>₹758</td>\n",
       "      <td>15% off</td>\n",
       "    </tr>\n",
       "    <tr>\n",
       "      <th>3</th>\n",
       "      <td>NuVew</td>\n",
       "      <td>UV Protection Round Sunglasses (50)</td>\n",
       "      <td>₹189</td>\n",
       "      <td>77% off</td>\n",
       "    </tr>\n",
       "    <tr>\n",
       "      <th>4</th>\n",
       "      <td>Fravy</td>\n",
       "      <td>UV Protection, Gradient, Night Vision Retro Sq...</td>\n",
       "      <td>₹296</td>\n",
       "      <td>85% off</td>\n",
       "    </tr>\n",
       "    <tr>\n",
       "      <th>...</th>\n",
       "      <td>...</td>\n",
       "      <td>...</td>\n",
       "      <td>...</td>\n",
       "      <td>...</td>\n",
       "    </tr>\n",
       "    <tr>\n",
       "      <th>95</th>\n",
       "      <td>Villain</td>\n",
       "      <td>Others Retro Square Sunglasses (Free Size)</td>\n",
       "      <td>₹539</td>\n",
       "      <td>28% off</td>\n",
       "    </tr>\n",
       "    <tr>\n",
       "      <th>96</th>\n",
       "      <td>Fastrack</td>\n",
       "      <td>Polarized Retro Square Sunglasses (Free Size)</td>\n",
       "      <td>₹701</td>\n",
       "      <td>12% off</td>\n",
       "    </tr>\n",
       "    <tr>\n",
       "      <th>97</th>\n",
       "      <td>NuVew</td>\n",
       "      <td>UV Protection, Riding Glasses Aviator Sunglass...</td>\n",
       "      <td>₹366</td>\n",
       "      <td>77% off</td>\n",
       "    </tr>\n",
       "    <tr>\n",
       "      <th>98</th>\n",
       "      <td>DEIXELS</td>\n",
       "      <td>Polarized, UV Protection, Riding Glasses Wayfa...</td>\n",
       "      <td>₹224</td>\n",
       "      <td>62% off</td>\n",
       "    </tr>\n",
       "    <tr>\n",
       "      <th>99</th>\n",
       "      <td>AISLIN</td>\n",
       "      <td>Polarized, UV Protection Wayfarer, Rectangular...</td>\n",
       "      <td>₹543</td>\n",
       "      <td>77% off</td>\n",
       "    </tr>\n",
       "  </tbody>\n",
       "</table>\n",
       "<p>100 rows × 4 columns</p>\n",
       "</div>"
      ],
      "text/plain": [
       "   Brand Name                                 Prodct Description Price  \\\n",
       "0        hipe        UV Protection Sports Sunglasses (Free Size)  ₹319   \n",
       "1       NuVew              UV Protection Aviator Sunglasses (58)  ₹204   \n",
       "2    Fastrack      UV Protection Wayfarer Sunglasses (Free Size)  ₹758   \n",
       "3       NuVew                UV Protection Round Sunglasses (50)  ₹189   \n",
       "4       Fravy  UV Protection, Gradient, Night Vision Retro Sq...  ₹296   \n",
       "..        ...                                                ...   ...   \n",
       "95    Villain         Others Retro Square Sunglasses (Free Size)  ₹539   \n",
       "96   Fastrack      Polarized Retro Square Sunglasses (Free Size)  ₹701   \n",
       "97      NuVew  UV Protection, Riding Glasses Aviator Sunglass...  ₹366   \n",
       "98    DEIXELS  Polarized, UV Protection, Riding Glasses Wayfa...  ₹224   \n",
       "99     AISLIN  Polarized, UV Protection Wayfarer, Rectangular...  ₹543   \n",
       "\n",
       "   Discount  \n",
       "0   83% off  \n",
       "1   74% off  \n",
       "2   15% off  \n",
       "3   77% off  \n",
       "4   85% off  \n",
       "..      ...  \n",
       "95  28% off  \n",
       "96  12% off  \n",
       "97  77% off  \n",
       "98  62% off  \n",
       "99  77% off  \n",
       "\n",
       "[100 rows x 4 columns]"
      ]
     },
     "execution_count": 25,
     "metadata": {},
     "output_type": "execute_result"
    }
   ],
   "source": [
    "df_sunglasses=pd.DataFrame({})\n",
    "df_sunglasses['Brand Name']=brand1\n",
    "df_sunglasses['Prodct Description']=description1\n",
    "df_sunglasses['Price']=price1\n",
    "df_sunglasses['Discount']=discount1\n",
    "df_sunglasses"
   ]
  },
  {
   "cell_type": "markdown",
   "metadata": {},
   "source": [
    "# Answer 7. Scrape 100 reviews data from flipkart.com for iphone11 phone. You have to go the link: https://www.flipkart.com/apple-iphone-11-black-64-gb-includes-earpods-power-adapter/p/itm0f37c2240b217?pid=MOBFKCTSVZAXUHGR&lid=LSTMOBFKCTSVZAXUHGREPBFGI&marketplace. 1. Rating, 2. Review_summary,3. Full review"
   ]
  },
  {
   "cell_type": "code",
   "execution_count": 153,
   "metadata": {},
   "outputs": [],
   "source": [
    "driver= webdriver.Chrome('chromedriver.exe')\n",
    "url='https://www.flipkart.com/apple-iphone-11-black-64-gb-includes-earpods-power-adapter/p/itm0f37c2240b217?pid=MOBFKCTSVZAXUHGR&lid=LSTMOBFKCTSVZAXUHGREPBFGI&marketplace'\n",
    "driver.get(url)"
   ]
  },
  {
   "cell_type": "code",
   "execution_count": 154,
   "metadata": {},
   "outputs": [],
   "source": [
    "allreviews=driver.find_element_by_xpath('//div[@class=\"_3UAT2v _16PBlm\"]/span').click()"
   ]
  },
  {
   "cell_type": "code",
   "execution_count": 27,
   "metadata": {},
   "outputs": [],
   "source": []
  },
  {
   "cell_type": "code",
   "execution_count": 155,
   "metadata": {},
   "outputs": [],
   "source": [
    "for i in range(10):\n",
    "    try:\n",
    "        driver.find_element_by_xpath('//a[@class=\"_1LKTO3\"]').click()\n",
    "    except:\n",
    "        driver.find_element_by_xpath('//a[@class=\"_1LKTO3\"]').click()"
   ]
  },
  {
   "cell_type": "code",
   "execution_count": 156,
   "metadata": {},
   "outputs": [
    {
     "ename": "StaleElementReferenceException",
     "evalue": "Message: stale element reference: element is not attached to the page document\n  (Session info: chrome=91.0.4472.101)\n",
     "output_type": "error",
     "traceback": [
      "\u001b[1;31m---------------------------------------------------------------------------\u001b[0m",
      "\u001b[1;31mStaleElementReferenceException\u001b[0m            Traceback (most recent call last)",
      "\u001b[1;32m<ipython-input-156-bf61bfd60c0a>\u001b[0m in \u001b[0;36m<module>\u001b[1;34m\u001b[0m\n\u001b[0;32m      2\u001b[0m \u001b[1;32mfor\u001b[0m \u001b[0mi\u001b[0m \u001b[1;32min\u001b[0m \u001b[0mrange\u001b[0m\u001b[1;33m(\u001b[0m\u001b[1;36m10\u001b[0m\u001b[1;33m)\u001b[0m\u001b[1;33m:\u001b[0m\u001b[1;33m\u001b[0m\u001b[1;33m\u001b[0m\u001b[0m\n\u001b[0;32m      3\u001b[0m     \u001b[1;32mfor\u001b[0m \u001b[0mj\u001b[0m \u001b[1;32min\u001b[0m \u001b[0mdriver\u001b[0m\u001b[1;33m.\u001b[0m\u001b[0mfind_elements_by_xpath\u001b[0m\u001b[1;33m(\u001b[0m\u001b[1;34m'//div[@class=\"_3LWZlK _1BLPMq\"]'\u001b[0m\u001b[1;33m)\u001b[0m\u001b[1;33m:\u001b[0m\u001b[1;33m\u001b[0m\u001b[1;33m\u001b[0m\u001b[0m\n\u001b[1;32m----> 4\u001b[1;33m         \u001b[0mrating\u001b[0m\u001b[1;33m.\u001b[0m\u001b[0mappend\u001b[0m\u001b[1;33m(\u001b[0m\u001b[0mj\u001b[0m\u001b[1;33m.\u001b[0m\u001b[0mtext\u001b[0m\u001b[1;33m)\u001b[0m\u001b[1;33m\u001b[0m\u001b[1;33m\u001b[0m\u001b[0m\n\u001b[0m\u001b[0;32m      5\u001b[0m \u001b[1;33m\u001b[0m\u001b[0m\n\u001b[0;32m      6\u001b[0m \u001b[0mprint\u001b[0m\u001b[1;33m(\u001b[0m\u001b[0mlen\u001b[0m\u001b[1;33m(\u001b[0m\u001b[0mrating\u001b[0m\u001b[1;33m)\u001b[0m\u001b[1;33m)\u001b[0m\u001b[1;33m\u001b[0m\u001b[1;33m\u001b[0m\u001b[0m\n",
      "\u001b[1;32m~\\Anaconda3\\lib\\site-packages\\selenium\\webdriver\\remote\\webelement.py\u001b[0m in \u001b[0;36mtext\u001b[1;34m(self)\u001b[0m\n\u001b[0;32m     74\u001b[0m     \u001b[1;32mdef\u001b[0m \u001b[0mtext\u001b[0m\u001b[1;33m(\u001b[0m\u001b[0mself\u001b[0m\u001b[1;33m)\u001b[0m\u001b[1;33m:\u001b[0m\u001b[1;33m\u001b[0m\u001b[1;33m\u001b[0m\u001b[0m\n\u001b[0;32m     75\u001b[0m         \u001b[1;34m\"\"\"The text of the element.\"\"\"\u001b[0m\u001b[1;33m\u001b[0m\u001b[1;33m\u001b[0m\u001b[0m\n\u001b[1;32m---> 76\u001b[1;33m         \u001b[1;32mreturn\u001b[0m \u001b[0mself\u001b[0m\u001b[1;33m.\u001b[0m\u001b[0m_execute\u001b[0m\u001b[1;33m(\u001b[0m\u001b[0mCommand\u001b[0m\u001b[1;33m.\u001b[0m\u001b[0mGET_ELEMENT_TEXT\u001b[0m\u001b[1;33m)\u001b[0m\u001b[1;33m[\u001b[0m\u001b[1;34m'value'\u001b[0m\u001b[1;33m]\u001b[0m\u001b[1;33m\u001b[0m\u001b[1;33m\u001b[0m\u001b[0m\n\u001b[0m\u001b[0;32m     77\u001b[0m \u001b[1;33m\u001b[0m\u001b[0m\n\u001b[0;32m     78\u001b[0m     \u001b[1;32mdef\u001b[0m \u001b[0mclick\u001b[0m\u001b[1;33m(\u001b[0m\u001b[0mself\u001b[0m\u001b[1;33m)\u001b[0m\u001b[1;33m:\u001b[0m\u001b[1;33m\u001b[0m\u001b[1;33m\u001b[0m\u001b[0m\n",
      "\u001b[1;32m~\\Anaconda3\\lib\\site-packages\\selenium\\webdriver\\remote\\webelement.py\u001b[0m in \u001b[0;36m_execute\u001b[1;34m(self, command, params)\u001b[0m\n\u001b[0;32m    631\u001b[0m             \u001b[0mparams\u001b[0m \u001b[1;33m=\u001b[0m \u001b[1;33m{\u001b[0m\u001b[1;33m}\u001b[0m\u001b[1;33m\u001b[0m\u001b[1;33m\u001b[0m\u001b[0m\n\u001b[0;32m    632\u001b[0m         \u001b[0mparams\u001b[0m\u001b[1;33m[\u001b[0m\u001b[1;34m'id'\u001b[0m\u001b[1;33m]\u001b[0m \u001b[1;33m=\u001b[0m \u001b[0mself\u001b[0m\u001b[1;33m.\u001b[0m\u001b[0m_id\u001b[0m\u001b[1;33m\u001b[0m\u001b[1;33m\u001b[0m\u001b[0m\n\u001b[1;32m--> 633\u001b[1;33m         \u001b[1;32mreturn\u001b[0m \u001b[0mself\u001b[0m\u001b[1;33m.\u001b[0m\u001b[0m_parent\u001b[0m\u001b[1;33m.\u001b[0m\u001b[0mexecute\u001b[0m\u001b[1;33m(\u001b[0m\u001b[0mcommand\u001b[0m\u001b[1;33m,\u001b[0m \u001b[0mparams\u001b[0m\u001b[1;33m)\u001b[0m\u001b[1;33m\u001b[0m\u001b[1;33m\u001b[0m\u001b[0m\n\u001b[0m\u001b[0;32m    634\u001b[0m \u001b[1;33m\u001b[0m\u001b[0m\n\u001b[0;32m    635\u001b[0m     \u001b[1;32mdef\u001b[0m \u001b[0mfind_element\u001b[0m\u001b[1;33m(\u001b[0m\u001b[0mself\u001b[0m\u001b[1;33m,\u001b[0m \u001b[0mby\u001b[0m\u001b[1;33m=\u001b[0m\u001b[0mBy\u001b[0m\u001b[1;33m.\u001b[0m\u001b[0mID\u001b[0m\u001b[1;33m,\u001b[0m \u001b[0mvalue\u001b[0m\u001b[1;33m=\u001b[0m\u001b[1;32mNone\u001b[0m\u001b[1;33m)\u001b[0m\u001b[1;33m:\u001b[0m\u001b[1;33m\u001b[0m\u001b[1;33m\u001b[0m\u001b[0m\n",
      "\u001b[1;32m~\\Anaconda3\\lib\\site-packages\\selenium\\webdriver\\remote\\webdriver.py\u001b[0m in \u001b[0;36mexecute\u001b[1;34m(self, driver_command, params)\u001b[0m\n\u001b[0;32m    319\u001b[0m         \u001b[0mresponse\u001b[0m \u001b[1;33m=\u001b[0m \u001b[0mself\u001b[0m\u001b[1;33m.\u001b[0m\u001b[0mcommand_executor\u001b[0m\u001b[1;33m.\u001b[0m\u001b[0mexecute\u001b[0m\u001b[1;33m(\u001b[0m\u001b[0mdriver_command\u001b[0m\u001b[1;33m,\u001b[0m \u001b[0mparams\u001b[0m\u001b[1;33m)\u001b[0m\u001b[1;33m\u001b[0m\u001b[1;33m\u001b[0m\u001b[0m\n\u001b[0;32m    320\u001b[0m         \u001b[1;32mif\u001b[0m \u001b[0mresponse\u001b[0m\u001b[1;33m:\u001b[0m\u001b[1;33m\u001b[0m\u001b[1;33m\u001b[0m\u001b[0m\n\u001b[1;32m--> 321\u001b[1;33m             \u001b[0mself\u001b[0m\u001b[1;33m.\u001b[0m\u001b[0merror_handler\u001b[0m\u001b[1;33m.\u001b[0m\u001b[0mcheck_response\u001b[0m\u001b[1;33m(\u001b[0m\u001b[0mresponse\u001b[0m\u001b[1;33m)\u001b[0m\u001b[1;33m\u001b[0m\u001b[1;33m\u001b[0m\u001b[0m\n\u001b[0m\u001b[0;32m    322\u001b[0m             response['value'] = self._unwrap_value(\n\u001b[0;32m    323\u001b[0m                 response.get('value', None))\n",
      "\u001b[1;32m~\\Anaconda3\\lib\\site-packages\\selenium\\webdriver\\remote\\errorhandler.py\u001b[0m in \u001b[0;36mcheck_response\u001b[1;34m(self, response)\u001b[0m\n\u001b[0;32m    240\u001b[0m                 \u001b[0malert_text\u001b[0m \u001b[1;33m=\u001b[0m \u001b[0mvalue\u001b[0m\u001b[1;33m[\u001b[0m\u001b[1;34m'alert'\u001b[0m\u001b[1;33m]\u001b[0m\u001b[1;33m.\u001b[0m\u001b[0mget\u001b[0m\u001b[1;33m(\u001b[0m\u001b[1;34m'text'\u001b[0m\u001b[1;33m)\u001b[0m\u001b[1;33m\u001b[0m\u001b[1;33m\u001b[0m\u001b[0m\n\u001b[0;32m    241\u001b[0m             \u001b[1;32mraise\u001b[0m \u001b[0mexception_class\u001b[0m\u001b[1;33m(\u001b[0m\u001b[0mmessage\u001b[0m\u001b[1;33m,\u001b[0m \u001b[0mscreen\u001b[0m\u001b[1;33m,\u001b[0m \u001b[0mstacktrace\u001b[0m\u001b[1;33m,\u001b[0m \u001b[0malert_text\u001b[0m\u001b[1;33m)\u001b[0m\u001b[1;33m\u001b[0m\u001b[1;33m\u001b[0m\u001b[0m\n\u001b[1;32m--> 242\u001b[1;33m         \u001b[1;32mraise\u001b[0m \u001b[0mexception_class\u001b[0m\u001b[1;33m(\u001b[0m\u001b[0mmessage\u001b[0m\u001b[1;33m,\u001b[0m \u001b[0mscreen\u001b[0m\u001b[1;33m,\u001b[0m \u001b[0mstacktrace\u001b[0m\u001b[1;33m)\u001b[0m\u001b[1;33m\u001b[0m\u001b[1;33m\u001b[0m\u001b[0m\n\u001b[0m\u001b[0;32m    243\u001b[0m \u001b[1;33m\u001b[0m\u001b[0m\n\u001b[0;32m    244\u001b[0m     \u001b[1;32mdef\u001b[0m \u001b[0m_value_or_default\u001b[0m\u001b[1;33m(\u001b[0m\u001b[0mself\u001b[0m\u001b[1;33m,\u001b[0m \u001b[0mobj\u001b[0m\u001b[1;33m,\u001b[0m \u001b[0mkey\u001b[0m\u001b[1;33m,\u001b[0m \u001b[0mdefault\u001b[0m\u001b[1;33m)\u001b[0m\u001b[1;33m:\u001b[0m\u001b[1;33m\u001b[0m\u001b[1;33m\u001b[0m\u001b[0m\n",
      "\u001b[1;31mStaleElementReferenceException\u001b[0m: Message: stale element reference: element is not attached to the page document\n  (Session info: chrome=91.0.4472.101)\n"
     ]
    }
   ],
   "source": [
    "rating=[]\n",
    "for i in range(10):\n",
    "    for j in driver.find_elements_by_xpath('//div[@class=\"_3LWZlK _1BLPMq\"]'):\n",
    "        rating.append(j.text)\n",
    "        \n",
    "print(len(rating))"
   ]
  },
  {
   "cell_type": "code",
   "execution_count": 43,
   "metadata": {},
   "outputs": [
    {
     "name": "stdout",
     "output_type": "stream",
     "text": [
      "100\n"
     ]
    }
   ],
   "source": [
    "summreview=[]\n",
    "for i in range(10):\n",
    "    for j in driver.find_elements_by_xpath('//p[@class=\"_2-N8zT\"]'):\n",
    "        summreview.append(j.text)\n",
    "        \n",
    "print(len(summreview))"
   ]
  },
  {
   "cell_type": "code",
   "execution_count": 39,
   "metadata": {},
   "outputs": [
    {
     "name": "stdout",
     "output_type": "stream",
     "text": [
      "100\n"
     ]
    }
   ],
   "source": [
    "review=[]\n",
    "for i in range(10):\n",
    "    for j in driver.find_elements_by_xpath('//div[@class=\"t-ZTKy\"]/div/div'):\n",
    "        review.append(j.text.replace('\\n',' '))\n",
    "        \n",
    "print(len(review))"
   ]
  },
  {
   "cell_type": "code",
   "execution_count": 46,
   "metadata": {},
   "outputs": [
    {
     "data": {
      "text/html": [
       "<div>\n",
       "<style scoped>\n",
       "    .dataframe tbody tr th:only-of-type {\n",
       "        vertical-align: middle;\n",
       "    }\n",
       "\n",
       "    .dataframe tbody tr th {\n",
       "        vertical-align: top;\n",
       "    }\n",
       "\n",
       "    .dataframe thead th {\n",
       "        text-align: right;\n",
       "    }\n",
       "</style>\n",
       "<table border=\"1\" class=\"dataframe\">\n",
       "  <thead>\n",
       "    <tr style=\"text-align: right;\">\n",
       "      <th></th>\n",
       "      <th>Rating</th>\n",
       "      <th>Review Summary</th>\n",
       "      <th>Full Review</th>\n",
       "    </tr>\n",
       "  </thead>\n",
       "  <tbody>\n",
       "    <tr>\n",
       "      <th>0</th>\n",
       "      <td>5</td>\n",
       "      <td>Brilliant</td>\n",
       "      <td>The Best Phone for the Money  The iPhone 11 of...</td>\n",
       "    </tr>\n",
       "    <tr>\n",
       "      <th>1</th>\n",
       "      <td>5</td>\n",
       "      <td>Perfect product!</td>\n",
       "      <td>Amazing phone with great cameras and better ba...</td>\n",
       "    </tr>\n",
       "    <tr>\n",
       "      <th>2</th>\n",
       "      <td>5</td>\n",
       "      <td>Great product</td>\n",
       "      <td>Amazing Powerful and Durable Gadget.  I’m am v...</td>\n",
       "    </tr>\n",
       "    <tr>\n",
       "      <th>3</th>\n",
       "      <td>5</td>\n",
       "      <td>Worth every penny</td>\n",
       "      <td>Previously I was using one plus 3t it was a gr...</td>\n",
       "    </tr>\n",
       "    <tr>\n",
       "      <th>4</th>\n",
       "      <td>5</td>\n",
       "      <td>Fabulous!</td>\n",
       "      <td>This is my first iOS phone. I am very happy wi...</td>\n",
       "    </tr>\n",
       "    <tr>\n",
       "      <th>...</th>\n",
       "      <td>...</td>\n",
       "      <td>...</td>\n",
       "      <td>...</td>\n",
       "    </tr>\n",
       "    <tr>\n",
       "      <th>95</th>\n",
       "      <td>4</td>\n",
       "      <td>Good choice</td>\n",
       "      <td>So far it’s been an AMAZING experience coming ...</td>\n",
       "    </tr>\n",
       "    <tr>\n",
       "      <th>96</th>\n",
       "      <td>5</td>\n",
       "      <td>Highly recommended</td>\n",
       "      <td>iphone 11 is a very good phone to buy only if ...</td>\n",
       "    </tr>\n",
       "    <tr>\n",
       "      <th>97</th>\n",
       "      <td>5</td>\n",
       "      <td>Perfect product!</td>\n",
       "      <td>It’s a must buy who is looking for an upgrade ...</td>\n",
       "    </tr>\n",
       "    <tr>\n",
       "      <th>98</th>\n",
       "      <td>5</td>\n",
       "      <td>Perfect product!</td>\n",
       "      <td>Value for money❤️❤️ Its awesome mobile phone i...</td>\n",
       "    </tr>\n",
       "    <tr>\n",
       "      <th>99</th>\n",
       "      <td>5</td>\n",
       "      <td>Worth every penny</td>\n",
       "      <td>Best budget Iphone till date ❤️ go for it guys...</td>\n",
       "    </tr>\n",
       "  </tbody>\n",
       "</table>\n",
       "<p>100 rows × 3 columns</p>\n",
       "</div>"
      ],
      "text/plain": [
       "   Rating      Review Summary  \\\n",
       "0       5           Brilliant   \n",
       "1       5    Perfect product!   \n",
       "2       5       Great product   \n",
       "3       5   Worth every penny   \n",
       "4       5           Fabulous!   \n",
       "..    ...                 ...   \n",
       "95      4         Good choice   \n",
       "96      5  Highly recommended   \n",
       "97      5    Perfect product!   \n",
       "98      5    Perfect product!   \n",
       "99      5   Worth every penny   \n",
       "\n",
       "                                          Full Review  \n",
       "0   The Best Phone for the Money  The iPhone 11 of...  \n",
       "1   Amazing phone with great cameras and better ba...  \n",
       "2   Amazing Powerful and Durable Gadget.  I’m am v...  \n",
       "3   Previously I was using one plus 3t it was a gr...  \n",
       "4   This is my first iOS phone. I am very happy wi...  \n",
       "..                                                ...  \n",
       "95  So far it’s been an AMAZING experience coming ...  \n",
       "96  iphone 11 is a very good phone to buy only if ...  \n",
       "97  It’s a must buy who is looking for an upgrade ...  \n",
       "98  Value for money❤️❤️ Its awesome mobile phone i...  \n",
       "99  Best budget Iphone till date ❤️ go for it guys...  \n",
       "\n",
       "[100 rows x 3 columns]"
      ]
     },
     "execution_count": 46,
     "metadata": {},
     "output_type": "execute_result"
    }
   ],
   "source": [
    "df_iphone11=pd.DataFrame({})\n",
    "df_iphone11['Rating']=rating\n",
    "df_iphone11['Review Summary']=summreview\n",
    "df_iphone11['Full Review']=review\n",
    "df_iphone11"
   ]
  },
  {
   "cell_type": "markdown",
   "metadata": {},
   "source": [
    "# Answer 8. Scrape data for first 100 sneakers you find when you visit flipkart.com and search for “sneakers” in the search field.1. Brand2. Product Description3. Price4. discount %"
   ]
  },
  {
   "cell_type": "code",
   "execution_count": 96,
   "metadata": {},
   "outputs": [],
   "source": [
    "driver= webdriver.Chrome('chromedriver.exe')\n",
    "url='https://www.flipkart.com/'\n",
    "driver.get(url)"
   ]
  },
  {
   "cell_type": "code",
   "execution_count": 97,
   "metadata": {},
   "outputs": [],
   "source": [
    "search_job=driver.find_element_by_xpath('/html/body/div[1]/div/div[1]/div[1]/div[2]/div[2]/form/div/div/input')\n",
    "search_job.send_keys('sneakers')"
   ]
  },
  {
   "cell_type": "code",
   "execution_count": 100,
   "metadata": {},
   "outputs": [],
   "source": [
    "search_btn=driver.find_element_by_class_name('L0Z3Pu').click()\n",
    "search_btn"
   ]
  },
  {
   "cell_type": "code",
   "execution_count": 101,
   "metadata": {},
   "outputs": [],
   "source": [
    "for i in range(3):\n",
    "    try:\n",
    "        driver.find_element_by_xpath('//a[@class=\"_1LKTO3\"]').click()\n",
    "    except:\n",
    "        driver.find_element_by_xpath('//a[@class=\"_1LKTO3\"]').click()"
   ]
  },
  {
   "cell_type": "code",
   "execution_count": 81,
   "metadata": {},
   "outputs": [
    {
     "name": "stdout",
     "output_type": "stream",
     "text": [
      "100\n",
      "120\n"
     ]
    }
   ],
   "source": [
    "brand=[]\n",
    "for i in range(3):\n",
    "    for j in driver.find_elements_by_xpath('//div[@class=\"_2WkVRV\"]'):\n",
    "        brand.append(j.text)\n",
    "        \n",
    "    driver.find_element_by_xpath('//div[@class=\"_2WkVRV\"]').click()\n",
    "brand1=brand[:100]\n",
    "print(len(brand1))\n",
    "print(len(brand))"
   ]
  },
  {
   "cell_type": "code",
   "execution_count": 91,
   "metadata": {},
   "outputs": [
    {
     "name": "stdout",
     "output_type": "stream",
     "text": [
      "100\n"
     ]
    }
   ],
   "source": [
    "description=[]\n",
    "for i in range(3):\n",
    "    for j in driver.find_elements_by_xpath('//div[@class=\"_2B099V\"]/a'):\n",
    "        description.append(j.text)\n",
    "description1=description[:100]\n",
    "print(len(description1))\n"
   ]
  },
  {
   "cell_type": "code",
   "execution_count": 88,
   "metadata": {},
   "outputs": [
    {
     "name": "stdout",
     "output_type": "stream",
     "text": [
      "100\n"
     ]
    }
   ],
   "source": [
    "price=[]\n",
    "for i in range(3):\n",
    "    for j in driver.find_elements_by_xpath('//div[@class=\"_30jeq3\"]'):\n",
    "        price.append(j.text)\n",
    "price1=price[:100]\n",
    "print(len(price1))"
   ]
  },
  {
   "cell_type": "code",
   "execution_count": 89,
   "metadata": {},
   "outputs": [
    {
     "name": "stdout",
     "output_type": "stream",
     "text": [
      "100\n"
     ]
    }
   ],
   "source": [
    "discount=[]\n",
    "for i in range(3):\n",
    "    for j in driver.find_elements_by_xpath('//div[@class=\"_3Ay6Sb\"]/span'):\n",
    "        discount.append(j.text)\n",
    "discount1=discount[:100]\n",
    "print(len(discount1))"
   ]
  },
  {
   "cell_type": "code",
   "execution_count": 90,
   "metadata": {},
   "outputs": [
    {
     "data": {
      "text/html": [
       "<div>\n",
       "<style scoped>\n",
       "    .dataframe tbody tr th:only-of-type {\n",
       "        vertical-align: middle;\n",
       "    }\n",
       "\n",
       "    .dataframe tbody tr th {\n",
       "        vertical-align: top;\n",
       "    }\n",
       "\n",
       "    .dataframe thead th {\n",
       "        text-align: right;\n",
       "    }\n",
       "</style>\n",
       "<table border=\"1\" class=\"dataframe\">\n",
       "  <thead>\n",
       "    <tr style=\"text-align: right;\">\n",
       "      <th></th>\n",
       "      <th>Brand Name</th>\n",
       "      <th>Prodct Description</th>\n",
       "      <th>Price</th>\n",
       "      <th>Discount</th>\n",
       "    </tr>\n",
       "  </thead>\n",
       "  <tbody>\n",
       "    <tr>\n",
       "      <th>0</th>\n",
       "      <td>ESSENCE</td>\n",
       "      <td>Sneakers For Men</td>\n",
       "      <td>₹442</td>\n",
       "      <td>55% off</td>\n",
       "    </tr>\n",
       "    <tr>\n",
       "      <th>1</th>\n",
       "      <td>Arohi</td>\n",
       "      <td>₹442₹99955% off</td>\n",
       "      <td>₹439</td>\n",
       "      <td>56% off</td>\n",
       "    </tr>\n",
       "    <tr>\n",
       "      <th>2</th>\n",
       "      <td>Jokatoo</td>\n",
       "      <td>Sneakers For Men</td>\n",
       "      <td>₹418</td>\n",
       "      <td>71% off</td>\n",
       "    </tr>\n",
       "    <tr>\n",
       "      <th>3</th>\n",
       "      <td>Robbie jones</td>\n",
       "      <td>₹439₹99956% off</td>\n",
       "      <td>₹499</td>\n",
       "      <td>50% off</td>\n",
       "    </tr>\n",
       "    <tr>\n",
       "      <th>4</th>\n",
       "      <td>SWIGGY</td>\n",
       "      <td>casual sneaker shoes and partywear shoes Casua...</td>\n",
       "      <td>₹719</td>\n",
       "      <td>71% off</td>\n",
       "    </tr>\n",
       "    <tr>\n",
       "      <th>...</th>\n",
       "      <td>...</td>\n",
       "      <td>...</td>\n",
       "      <td>...</td>\n",
       "      <td>...</td>\n",
       "    </tr>\n",
       "    <tr>\n",
       "      <th>95</th>\n",
       "      <td>Zorth</td>\n",
       "      <td>₹407₹1,29968% off\\nOr Pay ₹386 + \\n 21</td>\n",
       "      <td>₹573</td>\n",
       "      <td>42% off</td>\n",
       "    </tr>\n",
       "    <tr>\n",
       "      <th>96</th>\n",
       "      <td>Ktiz</td>\n",
       "      <td>EXPLORE Sneakers For Men</td>\n",
       "      <td>₹474</td>\n",
       "      <td>63% off</td>\n",
       "    </tr>\n",
       "    <tr>\n",
       "      <th>97</th>\n",
       "      <td>Magnolia</td>\n",
       "      <td>₹1,329₹1,89930% off</td>\n",
       "      <td>₹311</td>\n",
       "      <td>68% off</td>\n",
       "    </tr>\n",
       "    <tr>\n",
       "      <th>98</th>\n",
       "      <td>bluemaker</td>\n",
       "      <td>Synthetic Leather Casual Partywear Wedding Sne...</td>\n",
       "      <td>₹474</td>\n",
       "      <td>52% off</td>\n",
       "    </tr>\n",
       "    <tr>\n",
       "      <th>99</th>\n",
       "      <td>Ktiz</td>\n",
       "      <td>₹398₹99960% off</td>\n",
       "      <td>₹440</td>\n",
       "      <td>66% off</td>\n",
       "    </tr>\n",
       "  </tbody>\n",
       "</table>\n",
       "<p>100 rows × 4 columns</p>\n",
       "</div>"
      ],
      "text/plain": [
       "      Brand Name                                 Prodct Description Price  \\\n",
       "0        ESSENCE                                   Sneakers For Men  ₹442   \n",
       "1          Arohi                                    ₹442₹99955% off  ₹439   \n",
       "2        Jokatoo                                   Sneakers For Men  ₹418   \n",
       "3   Robbie jones                                    ₹439₹99956% off  ₹499   \n",
       "4         SWIGGY  casual sneaker shoes and partywear shoes Casua...  ₹719   \n",
       "..           ...                                                ...   ...   \n",
       "95         Zorth             ₹407₹1,29968% off\\nOr Pay ₹386 + \\n 21  ₹573   \n",
       "96          Ktiz                           EXPLORE Sneakers For Men  ₹474   \n",
       "97      Magnolia                                ₹1,329₹1,89930% off  ₹311   \n",
       "98     bluemaker  Synthetic Leather Casual Partywear Wedding Sne...  ₹474   \n",
       "99          Ktiz                                    ₹398₹99960% off  ₹440   \n",
       "\n",
       "   Discount  \n",
       "0   55% off  \n",
       "1   56% off  \n",
       "2   71% off  \n",
       "3   50% off  \n",
       "4   71% off  \n",
       "..      ...  \n",
       "95  42% off  \n",
       "96  63% off  \n",
       "97  68% off  \n",
       "98  52% off  \n",
       "99  66% off  \n",
       "\n",
       "[100 rows x 4 columns]"
      ]
     },
     "execution_count": 90,
     "metadata": {},
     "output_type": "execute_result"
    }
   ],
   "source": [
    "df_sneakers=pd.DataFrame({})\n",
    "df_sneakers['Brand Name']=brand1\n",
    "df_sneakers['Prodct Description']=description1\n",
    "df_sneakers['Price']=price1\n",
    "df_sneakers['Discount']=discount1\n",
    "df_sneakers"
   ]
  },
  {
   "cell_type": "markdown",
   "metadata": {},
   "source": [
    "# Answer 9. Go to the link - https://www.myntra.com/shoes Set Price filter to “Rs. 6649 to Rs. 13099” , Color filter to “Black”, as shown in the below image And then scrape First 100 shoes data you get. The data should include “Brand” of the shoes , Short Shoe description, price of the shoe as shown in the below image."
   ]
  },
  {
   "cell_type": "code",
   "execution_count": 103,
   "metadata": {},
   "outputs": [],
   "source": [
    "driver= webdriver.Chrome('chromedriver.exe')\n",
    "url='https://www.myntra.com/shoes'\n",
    "driver.get(url)"
   ]
  },
  {
   "cell_type": "code",
   "execution_count": 106,
   "metadata": {},
   "outputs": [],
   "source": [
    "color_filter=driver.find_element_by_xpath('//*[@id=\"mountRoot\"]/div/div[1]/main/div[3]/div[1]/section/div/div[5]/ul/li[2]/label/div').click()\n",
    "color_filter"
   ]
  },
  {
   "cell_type": "code",
   "execution_count": 107,
   "metadata": {},
   "outputs": [],
   "source": [
    "for i in range(2):\n",
    "    try:\n",
    "        driver.find_element_by_xpath('//*[@id=\"desktopSearchResults\"]/div[2]/section/div[2]/ul/li[12]/a').click()\n",
    "    except:\n",
    "        driver.find_element_by_xpath('//*[@id=\"desktopSearchResults\"]/div[2]/section/div[2]/ul/li[12]/a').click()"
   ]
  },
  {
   "cell_type": "code",
   "execution_count": 111,
   "metadata": {},
   "outputs": [
    {
     "name": "stdout",
     "output_type": "stream",
     "text": [
      "100\n",
      "150\n"
     ]
    }
   ],
   "source": [
    "brand=[]\n",
    "for i in range(3):\n",
    "    for j in driver.find_elements_by_xpath('//h3[@class=\"product-brand\"]'):\n",
    "        brand.append(j.text)\n",
    "brand1=brand[:100]\n",
    "print(len(brand1))\n",
    "print(len(brand))"
   ]
  },
  {
   "cell_type": "code",
   "execution_count": 114,
   "metadata": {},
   "outputs": [
    {
     "name": "stdout",
     "output_type": "stream",
     "text": [
      "150\n",
      "100\n"
     ]
    }
   ],
   "source": [
    "description=[]\n",
    "for i in range(3):\n",
    "    for j in driver.find_elements_by_xpath('//h4[@class=\"product-product\"]'):\n",
    "        description.append(j.text)\n",
    "description1=description[:100]\n",
    "print(len(description))\n",
    "print(len(description1))"
   ]
  },
  {
   "cell_type": "code",
   "execution_count": 119,
   "metadata": {},
   "outputs": [
    {
     "name": "stdout",
     "output_type": "stream",
     "text": [
      "150\n",
      "100\n"
     ]
    }
   ],
   "source": [
    "price=[]\n",
    "for i in range(3):\n",
    "    for j in driver.find_elements_by_xpath('//div[@class=\"product-price\"]'):\n",
    "        price.append(j.text.strip())\n",
    "price1=price[:100]\n",
    "print(len(price))\n",
    "print(len(price1))\n"
   ]
  },
  {
   "cell_type": "code",
   "execution_count": 120,
   "metadata": {},
   "outputs": [
    {
     "data": {
      "text/html": [
       "<div>\n",
       "<style scoped>\n",
       "    .dataframe tbody tr th:only-of-type {\n",
       "        vertical-align: middle;\n",
       "    }\n",
       "\n",
       "    .dataframe tbody tr th {\n",
       "        vertical-align: top;\n",
       "    }\n",
       "\n",
       "    .dataframe thead th {\n",
       "        text-align: right;\n",
       "    }\n",
       "</style>\n",
       "<table border=\"1\" class=\"dataframe\">\n",
       "  <thead>\n",
       "    <tr style=\"text-align: right;\">\n",
       "      <th></th>\n",
       "      <th>Brand Name</th>\n",
       "      <th>Prodct Description</th>\n",
       "      <th>Price</th>\n",
       "    </tr>\n",
       "  </thead>\n",
       "  <tbody>\n",
       "    <tr>\n",
       "      <th>0</th>\n",
       "      <td>RAPAWALK</td>\n",
       "      <td>Standard Width Leather Monks</td>\n",
       "      <td>Rs. 8850</td>\n",
       "    </tr>\n",
       "    <tr>\n",
       "      <th>1</th>\n",
       "      <td>RAPAWALK</td>\n",
       "      <td>Standard Width Leather Monks</td>\n",
       "      <td>Rs. 8850</td>\n",
       "    </tr>\n",
       "    <tr>\n",
       "      <th>2</th>\n",
       "      <td>RAPAWALK</td>\n",
       "      <td>Standard Width Leather Monks</td>\n",
       "      <td>Rs. 8850</td>\n",
       "    </tr>\n",
       "    <tr>\n",
       "      <th>3</th>\n",
       "      <td>RAPAWALK</td>\n",
       "      <td>Standard Width Leather Slip Ons</td>\n",
       "      <td>Rs. 8850</td>\n",
       "    </tr>\n",
       "    <tr>\n",
       "      <th>4</th>\n",
       "      <td>RAPAWALK</td>\n",
       "      <td>Standard Width Leather Slip Ons</td>\n",
       "      <td>Rs. 8850</td>\n",
       "    </tr>\n",
       "    <tr>\n",
       "      <th>...</th>\n",
       "      <td>...</td>\n",
       "      <td>...</td>\n",
       "      <td>...</td>\n",
       "    </tr>\n",
       "    <tr>\n",
       "      <th>95</th>\n",
       "      <td>RAPAWALK</td>\n",
       "      <td>Wide Width Leather Slip Ons</td>\n",
       "      <td>Rs. 8850</td>\n",
       "    </tr>\n",
       "    <tr>\n",
       "      <th>96</th>\n",
       "      <td>RAPAWALK</td>\n",
       "      <td>Wide Width Leather Monks</td>\n",
       "      <td>Rs. 8850</td>\n",
       "    </tr>\n",
       "    <tr>\n",
       "      <th>97</th>\n",
       "      <td>RAPAWALK</td>\n",
       "      <td>Wide Width Leather Monks</td>\n",
       "      <td>Rs. 8850</td>\n",
       "    </tr>\n",
       "    <tr>\n",
       "      <th>98</th>\n",
       "      <td>RAPAWALK</td>\n",
       "      <td>Wide Width Leather Monks</td>\n",
       "      <td>Rs. 8850</td>\n",
       "    </tr>\n",
       "    <tr>\n",
       "      <th>99</th>\n",
       "      <td>RAPAWALK</td>\n",
       "      <td>Standard Width Leather Slip Ons</td>\n",
       "      <td>Rs. 8850</td>\n",
       "    </tr>\n",
       "  </tbody>\n",
       "</table>\n",
       "<p>100 rows × 3 columns</p>\n",
       "</div>"
      ],
      "text/plain": [
       "   Brand Name               Prodct Description     Price\n",
       "0    RAPAWALK     Standard Width Leather Monks  Rs. 8850\n",
       "1    RAPAWALK     Standard Width Leather Monks  Rs. 8850\n",
       "2    RAPAWALK     Standard Width Leather Monks  Rs. 8850\n",
       "3    RAPAWALK  Standard Width Leather Slip Ons  Rs. 8850\n",
       "4    RAPAWALK  Standard Width Leather Slip Ons  Rs. 8850\n",
       "..        ...                              ...       ...\n",
       "95   RAPAWALK      Wide Width Leather Slip Ons  Rs. 8850\n",
       "96   RAPAWALK         Wide Width Leather Monks  Rs. 8850\n",
       "97   RAPAWALK         Wide Width Leather Monks  Rs. 8850\n",
       "98   RAPAWALK         Wide Width Leather Monks  Rs. 8850\n",
       "99   RAPAWALK  Standard Width Leather Slip Ons  Rs. 8850\n",
       "\n",
       "[100 rows x 3 columns]"
      ]
     },
     "execution_count": 120,
     "metadata": {},
     "output_type": "execute_result"
    }
   ],
   "source": [
    "df_shoes=pd.DataFrame({})\n",
    "df_shoes['Brand Name']=brand1\n",
    "df_shoes['Prodct Description']=description1\n",
    "df_shoes['Price']=price1\n",
    "df_shoes"
   ]
  },
  {
   "cell_type": "markdown",
   "metadata": {},
   "source": [
    "# Answer 10.Go to webpage https://www.amazon.in/ Enter “Laptop” in the search field and then click the search icon. Then set CPU Type filter to “Intel Core i7” and “Intel Core i9” as shown in the below image: 1. title 2. Ratings 3. Price"
   ]
  },
  {
   "cell_type": "code",
   "execution_count": 191,
   "metadata": {},
   "outputs": [],
   "source": [
    "driver= webdriver.Chrome('chromedriver.exe')\n",
    "url='https://www.amazon.in/'\n",
    "driver.get(url)"
   ]
  },
  {
   "cell_type": "code",
   "execution_count": 192,
   "metadata": {},
   "outputs": [],
   "source": [
    "search=driver.find_element_by_xpath('/html/body/div[1]/header/div/div[1]/div[2]/div/form/div[2]/div[1]/input')\n",
    "search.send_keys('Laptop')"
   ]
  },
  {
   "cell_type": "code",
   "execution_count": 193,
   "metadata": {},
   "outputs": [],
   "source": [
    "search_btn=driver.find_element_by_xpath('//input[@id=\"nav-search-submit-button\"]').click()\n",
    "search_btn"
   ]
  },
  {
   "cell_type": "code",
   "execution_count": null,
   "metadata": {},
   "outputs": [],
   "source": []
  },
  {
   "cell_type": "code",
   "execution_count": 194,
   "metadata": {},
   "outputs": [],
   "source": [
    "CPU_filteri7=driver.find_element_by_xpath('//*[@id=\"p_n_feature_thirteen_browse-bin/12598163031\"]/span/a/div/label/i').click()\n",
    "CPU_filteri9=driver.find_element_by_xpath('//*[@id=\"p_n_feature_thirteen_browse-bin/16757432031\"]/span/a/div/label/i').click()\n",
    "CPU_filteri7\n",
    "CPU_filteri9"
   ]
  },
  {
   "cell_type": "code",
   "execution_count": 195,
   "metadata": {},
   "outputs": [
    {
     "name": "stdout",
     "output_type": "stream",
     "text": [
      "10\n"
     ]
    },
    {
     "data": {
      "text/plain": [
       "['Mi Notebook Horizon Edition 14 Intel Core i5-10210U 10th Gen 14-inch (35.56 cms) Thin and Light Laptop(8GB/512GB SSD/Windows 10/Nvidia MX350 2GB Graphics/Grey/1.35Kg), XMA1904-AR+Webcam',\n",
       " 'HP 14 Thin & Light 14\" (35.56cms) FHD Laptop (11th Gen Intel i7-1165G7/8GB/512GB SSD/Windows 10/MS Office 2019/Alexa Built-in/Pale Gold/1.47 kg), 14s-dr2007TU',\n",
       " 'HP Pavilion (2021) Thin & Light 11th Gen Core i7 Laptop, 16 GB RAM, 1TB SSD, Iris Xe Graphics, 14\" (35.56cms) FHD Screen, Windows 10, MS Office, Backlit Keyboard (14-dv0058TU)',\n",
       " 'HP Pavilion Gaming 10th Gen Intel Core i7 Processor 15.6-inch FHD Gaming Laptop (16GB/512GB SSD + 32GB Intel Optane/Windows 10/NVIDIA 1650Ti 4GB/Shadow Black), 15-dk1509TX',\n",
       " 'Life Digital Laptop 15.6-inch (39.62 cms) (Intel Core i7, 4GB RAM, 256GB SSD, Windows 10), ZED AIR CX7',\n",
       " 'ASUS ROG Zephyrus Duo 15, 15.6\" 4K UHD, Intel Core i7-10875H 10th Gen, RTX 2080 Super Max-Q 8GB Graphics, Gaming Laptop (32GB/2TB RAID 0 SSD/Windows 10/MS Office/Gray/2.48 Kg) GX550LXS-HC145TS',\n",
       " 'Lenovo Ideapad 5 Intel i7 11th Gen 15.6\" Thin and Light (16GB/512SSD/Win10 +Office Home/Intel Iris Xe Graphics/Graphite Grey/1.66kg), 82FG0117IN',\n",
       " 'Lenovo ThinkPad E15 (2021) Intel Core i7 11th Gen 15.6\" FHD Thin and Light Laptop (16GB RAM/512GB SSD/Windows 10/MS Office/Fingerprint Reader/Black/Aluminium Surface/ 1.7 kg), 20TDS0G100',\n",
       " '(Renewed) Dell G7 7500 15.6inch FHD 300 Hz Display Gaming Laptop (10th Gen i9-10885H / 16 GB / 1TB SSD / NVIDIA RTX 2070 8GB Graphics / 1Yr Premium Warranty / Win 10 + MS Office H&S 2019) D560233WIN9B, Black',\n",
       " 'Lenovo IdeaPad Gaming 3 10th Gen Intel Core i7 15.6-inch FHD IPS Gaming Laptop (8GB/1TB HDD + 256 GB SSD/Windows 10/NVIDIA GTX 1650 4GB GDDR6/with M100 RGB Gaming Mouse/Onyx Black/2.2Kg), 81Y400VAIN']"
      ]
     },
     "execution_count": 195,
     "metadata": {},
     "output_type": "execute_result"
    }
   ],
   "source": [
    "name_tag=driver.find_elements_by_xpath('//h2[@class=\"a-size-mini a-spacing-none a-color-base s-line-clamp-2\"]')\n",
    "name=[]\n",
    "for i in name_tag[0:10]:\n",
    "    name.append(i.text)\n",
    "print(len(name))    \n",
    "name"
   ]
  },
  {
   "cell_type": "code",
   "execution_count": 206,
   "metadata": {},
   "outputs": [
    {
     "name": "stdout",
     "output_type": "stream",
     "text": [
      "10\n"
     ]
    },
    {
     "data": {
      "text/plain": [
       "['', '', '', '', '', '', '', '', '', '']"
      ]
     },
     "execution_count": 206,
     "metadata": {},
     "output_type": "execute_result"
    }
   ],
   "source": [
    "rating_tag=driver.find_elements_by_xpath('//span[@class=\"a-icon-alt\"]')\n",
    "rating=[]\n",
    "for i in rating_tag[0:10]:\n",
    "    rating.append(i.text.strip())\n",
    "print(len(rating))    \n",
    "rating"
   ]
  },
  {
   "cell_type": "code",
   "execution_count": 207,
   "metadata": {},
   "outputs": [
    {
     "name": "stdout",
     "output_type": "stream",
     "text": [
      "10\n"
     ]
    },
    {
     "data": {
      "text/plain": [
       "['54,999',\n",
       " '89,000',\n",
       " '84,990',\n",
       " '86,990',\n",
       " '26,990',\n",
       " '2,69,990',\n",
       " '78,990',\n",
       " '90,990',\n",
       " '1,70,587',\n",
       " '77,990']"
      ]
     },
     "execution_count": 207,
     "metadata": {},
     "output_type": "execute_result"
    }
   ],
   "source": [
    "price_tag=driver.find_elements_by_xpath('//span[@class=\"a-price-whole\"]')\n",
    "price=[]\n",
    "for i in price_tag[0:10]:\n",
    "    price.append(i.text)\n",
    "print(len(price))    \n",
    "price"
   ]
  },
  {
   "cell_type": "code",
   "execution_count": 208,
   "metadata": {},
   "outputs": [
    {
     "data": {
      "text/html": [
       "<div>\n",
       "<style scoped>\n",
       "    .dataframe tbody tr th:only-of-type {\n",
       "        vertical-align: middle;\n",
       "    }\n",
       "\n",
       "    .dataframe tbody tr th {\n",
       "        vertical-align: top;\n",
       "    }\n",
       "\n",
       "    .dataframe thead th {\n",
       "        text-align: right;\n",
       "    }\n",
       "</style>\n",
       "<table border=\"1\" class=\"dataframe\">\n",
       "  <thead>\n",
       "    <tr style=\"text-align: right;\">\n",
       "      <th></th>\n",
       "      <th>Laptop Name</th>\n",
       "      <th>Product Rating</th>\n",
       "      <th>Price</th>\n",
       "    </tr>\n",
       "  </thead>\n",
       "  <tbody>\n",
       "    <tr>\n",
       "      <th>0</th>\n",
       "      <td>Mi Notebook Horizon Edition 14 Intel Core i5-1...</td>\n",
       "      <td></td>\n",
       "      <td>54,999</td>\n",
       "    </tr>\n",
       "    <tr>\n",
       "      <th>1</th>\n",
       "      <td>HP 14 Thin &amp; Light 14\" (35.56cms) FHD Laptop (...</td>\n",
       "      <td></td>\n",
       "      <td>89,000</td>\n",
       "    </tr>\n",
       "    <tr>\n",
       "      <th>2</th>\n",
       "      <td>HP Pavilion (2021) Thin &amp; Light 11th Gen Core ...</td>\n",
       "      <td></td>\n",
       "      <td>84,990</td>\n",
       "    </tr>\n",
       "    <tr>\n",
       "      <th>3</th>\n",
       "      <td>HP Pavilion Gaming 10th Gen Intel Core i7 Proc...</td>\n",
       "      <td></td>\n",
       "      <td>86,990</td>\n",
       "    </tr>\n",
       "    <tr>\n",
       "      <th>4</th>\n",
       "      <td>Life Digital Laptop 15.6-inch (39.62 cms) (Int...</td>\n",
       "      <td></td>\n",
       "      <td>26,990</td>\n",
       "    </tr>\n",
       "    <tr>\n",
       "      <th>5</th>\n",
       "      <td>ASUS ROG Zephyrus Duo 15, 15.6\" 4K UHD, Intel ...</td>\n",
       "      <td></td>\n",
       "      <td>2,69,990</td>\n",
       "    </tr>\n",
       "    <tr>\n",
       "      <th>6</th>\n",
       "      <td>Lenovo Ideapad 5 Intel i7 11th Gen 15.6\" Thin ...</td>\n",
       "      <td></td>\n",
       "      <td>78,990</td>\n",
       "    </tr>\n",
       "    <tr>\n",
       "      <th>7</th>\n",
       "      <td>Lenovo ThinkPad E15 (2021) Intel Core i7 11th ...</td>\n",
       "      <td></td>\n",
       "      <td>90,990</td>\n",
       "    </tr>\n",
       "    <tr>\n",
       "      <th>8</th>\n",
       "      <td>(Renewed) Dell G7 7500 15.6inch FHD 300 Hz Dis...</td>\n",
       "      <td></td>\n",
       "      <td>1,70,587</td>\n",
       "    </tr>\n",
       "    <tr>\n",
       "      <th>9</th>\n",
       "      <td>Lenovo IdeaPad Gaming 3 10th Gen Intel Core i7...</td>\n",
       "      <td></td>\n",
       "      <td>77,990</td>\n",
       "    </tr>\n",
       "  </tbody>\n",
       "</table>\n",
       "</div>"
      ],
      "text/plain": [
       "                                         Laptop Name Product Rating     Price\n",
       "0  Mi Notebook Horizon Edition 14 Intel Core i5-1...                   54,999\n",
       "1  HP 14 Thin & Light 14\" (35.56cms) FHD Laptop (...                   89,000\n",
       "2  HP Pavilion (2021) Thin & Light 11th Gen Core ...                   84,990\n",
       "3  HP Pavilion Gaming 10th Gen Intel Core i7 Proc...                   86,990\n",
       "4  Life Digital Laptop 15.6-inch (39.62 cms) (Int...                   26,990\n",
       "5  ASUS ROG Zephyrus Duo 15, 15.6\" 4K UHD, Intel ...                 2,69,990\n",
       "6  Lenovo Ideapad 5 Intel i7 11th Gen 15.6\" Thin ...                   78,990\n",
       "7  Lenovo ThinkPad E15 (2021) Intel Core i7 11th ...                   90,990\n",
       "8  (Renewed) Dell G7 7500 15.6inch FHD 300 Hz Dis...                 1,70,587\n",
       "9  Lenovo IdeaPad Gaming 3 10th Gen Intel Core i7...                   77,990"
      ]
     },
     "execution_count": 208,
     "metadata": {},
     "output_type": "execute_result"
    }
   ],
   "source": [
    "df_laptop=pd.DataFrame({})\n",
    "df_laptop['Laptop Name']=name\n",
    "df_laptop['Product Rating']=rating\n",
    "df_laptop['Price']=price\n",
    "df_laptop"
   ]
  },
  {
   "cell_type": "code",
   "execution_count": null,
   "metadata": {},
   "outputs": [],
   "source": []
  },
  {
   "cell_type": "code",
   "execution_count": null,
   "metadata": {},
   "outputs": [],
   "source": []
  },
  {
   "cell_type": "code",
   "execution_count": null,
   "metadata": {},
   "outputs": [],
   "source": []
  }
 ],
 "metadata": {
  "kernelspec": {
   "display_name": "Python 3",
   "language": "python",
   "name": "python3"
  },
  "language_info": {
   "codemirror_mode": {
    "name": "ipython",
    "version": 3
   },
   "file_extension": ".py",
   "mimetype": "text/x-python",
   "name": "python",
   "nbconvert_exporter": "python",
   "pygments_lexer": "ipython3",
   "version": "3.8.5"
  }
 },
 "nbformat": 4,
 "nbformat_minor": 4
}
